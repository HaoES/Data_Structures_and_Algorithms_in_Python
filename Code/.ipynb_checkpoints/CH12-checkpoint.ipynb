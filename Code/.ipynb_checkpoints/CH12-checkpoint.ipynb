{
 "cells": [
  {
   "cell_type": "code",
   "execution_count": 1,
   "metadata": {},
   "outputs": [],
   "source": [
    "def merge(S1, S2, S):\n",
    "    \"\"\"Merge two sorted lists S1 and S2 into a properly sized list.\"\"\"\n",
    "    i = j = 0\n",
    "    while i + j < len(S):\n",
    "        if j == len(S1) or (i < len(S1) and S1[i] < S2[j]):\n",
    "            S[i+j] = S1[i]          # copy ith element of S1 as next item of S\n",
    "            i += 1\n",
    "        else:\n",
    "            S[i+j] = S2[j]          # copy jth element of S2 as next item of S\n",
    "            j += 1\n",
    "        "
   ]
  },
  {
   "cell_type": "code",
   "execution_count": 2,
   "metadata": {},
   "outputs": [],
   "source": [
    "def merge_sort(S):\n",
    "    \"\"\"Sort the element of Python list S using the merge-sort algorithm.\"\"\"\n",
    "    n = len(S)\n",
    "    if n < 2:\n",
    "        return                 # list is already sorted\n",
    "    # divide\n",
    "    middle = n // 2            \n",
    "    S1 = S[:middle]            # copy of first half\n",
    "    S2 = S[middle:]            # copy of second half\n",
    "    # conquer with recursion\n",
    "    merge_sort(S1)             # sort copy of first half\n",
    "    merge_sort(S2)             # sort copy of second half\n",
    "    # merge results\n",
    "    merge(S1, S2, S)           # merge sorted halves back into S"
   ]
  },
  {
   "cell_type": "code",
   "execution_count": 3,
   "metadata": {},
   "outputs": [],
   "source": [
    "def merge(S1, S2, S):\n",
    "    \"\"\"Merge two sorted queue instances S1 and S2 into empty queue S.\"\"\"\n",
    "    while not S1.is_empty() and not S2.is_empty():\n",
    "        if S1.first() < S2.first():\n",
    "            S.enqueue(S1.dequeue())\n",
    "        else:\n",
    "            S.enqueue(S2.dequeue())\n",
    "    while not S1.is_empty():      # move remaining elements of S1 to S\n",
    "        S.enqueue(S1.dequeue())\n",
    "    while not S2.is_empty():      # move remaining elements of S2 to S\n",
    "        S.enqueue(S2.dequeue())\n",
    "\n",
    "def merge_sort(S):\n",
    "    \"\"\"Sort the elements of queue S using the merge-sort algorithm.\"\"\"\n",
    "    n = len(S)\n",
    "    if n < 2: \n",
    "        return                    # list is already sorted\n",
    "    # divide\n",
    "    S1 = LinkedQueue()            # or any other queue implementation\n",
    "    S2 = LinkedQeueu()            \n",
    "    while len(S1) < n // 2:       # move the first n//2 elements to S1\n",
    "        S1.enqueue(S.dequeue())\n",
    "    while not S.is_empty():       # move the rest to S2\n",
    "        S2.enqueue(S.dequeue())\n",
    "    # conquer (with recursion)\n",
    "    merge_sort(S1)                # sort first half\n",
    "    merge_sort(S2)                # sort second half \n",
    "    # merge results\n",
    "    merge(S1, S2, S)              # merge sorted halves back into S"
   ]
  },
  {
   "cell_type": "code",
   "execution_count": 4,
   "metadata": {},
   "outputs": [],
   "source": [
    "def merge(src, result, start, inc):\n",
    "    \"\"\"Merge src[start:start + inc] and src[start+inc: start+ 2*inc] into result.\"\"\"\n",
    "    end1 = start + inc                      # boundary for run 1\n",
    "    end2 = min(start + 2*inc, len(src))     # boundary for run 2\n",
    "    x, y, z = start, start + inc, start     # index into run 1, run 2, result\n",
    "    while x < end1 and y < end2:\n",
    "        if src[x] < src[y]:\n",
    "            result[z] = src[x]; x += 1      # copy from run 1 and increment x\n",
    "        else:\n",
    "            result[z] = src[y]; y += 1      # copy from run 2 and increment y\n",
    "        z += 1                              # increment z to reflecet new result\n",
    "    if x < end1:\n",
    "        result[z:end2] = src[x:end1]        # copy remainder of run 1 to output\n",
    "    elif y < end2:\n",
    "        result[z:end2] = src[y:end2]        # copy remainder of run 2 to output\n",
    "def merge_sort(S):\n",
    "    \"\"\"Sort the elements of Python list S using the merge-sort algorithm.\"\"\"\n",
    "    n = len(S)\n",
    "    logn = math.ceil(math.log(n,2))\n",
    "    src, dest = S, [None] * n               # make temporary storage for dest\n",
    "    for i in (2**k for k in range(logn)):   # pass i creates all runs of length 2i\n",
    "        merge(src, dest, j, i)\n",
    "    src, dest = dest, src                   # reverse roles of lists\n",
    "    if S is not src:\n",
    "        S[0:n] = src[0:n]                   # additional copy to get results to S\n",
    "    "
   ]
  },
  {
   "cell_type": "code",
   "execution_count": 5,
   "metadata": {},
   "outputs": [],
   "source": [
    "def quick_sort(S):\n",
    "    \"\"\"Sort the elements of queue S using the quick-sort algorithm.\"\"\"\n",
    "    n = len(S)\n",
    "    if n < 2:\n",
    "        return                        # list is already sorted\n",
    "    # divide \n",
    "    p = S.first()                     # using first as arbitrary pivot\n",
    "    L = LinkedQueue()\n",
    "    G = LinkedQueue()\n",
    "    E = LinkedQueue()\n",
    "    while not S.is_empty():          # divide S into L, E, and G\n",
    "        if S.first() < p:\n",
    "            L.enqueue(S.dequeue())\n",
    "        elif p < S.first():\n",
    "            G.enqueue(S.dequeue())\n",
    "        else:                       # S.first() must equal to pivot\n",
    "            E.enqueue(S.dequeue())\n",
    "    # conquer with recursion\n",
    "    quick_sort(L)                   # sort elements less than p\n",
    "    quick_sort(G)                   # sort elements greater than p\n",
    "    # concatenate results\n",
    "    while not L.is_empty():\n",
    "        S.enqueue(L.dequeue())\n",
    "    while not E.is_empty():\n",
    "        S.enqueue(E.dequeue())\n",
    "    while not G.is_empty():\n",
    "        S.enqueue(G.dequeue())"
   ]
  },
  {
   "cell_type": "code",
   "execution_count": 6,
   "metadata": {},
   "outputs": [],
   "source": [
    "def inplace_quick_sort(S, a, b):\n",
    "    \"\"\"Sort the list from S[a] to S[b] inclusive using the quick-sort algorithm.\"\"\"\n",
    "    if a >= b: return                   # range is trivially sorted\n",
    "    pivot = S[b]                        # last element of range is pivot\n",
    "    left = a                            # will scan rightward\n",
    "    right = b - 1                       # will scan leftward\n",
    "    while left <= right:\n",
    "        # scan until reaching value equal or larger than pivot (or right marker)\n",
    "        while left <= right and S[left] < pivot:\n",
    "            left += 1 \n",
    "        # scan until reaching value equal or smaller than pivot (or left marker)\n",
    "        while left <= right and pivot > S[right]:\n",
    "            right -= 1\n",
    "        if left <= right:                           # scans did not strictly cross\n",
    "            S[left], S[right] = S[right], S[left]   # swap values\n",
    "            left, right = left + 1, right - 1       # shrink range\n",
    "    # put pivot into its final place (currently marked by left index)\n",
    "    S[left], S[b] = S[b], S[left]\n",
    "    # make recursive calls\n",
    "    inplace_quick_sort(S, a, left - 1)\n",
    "    inplace_quick_sort(S, left + 1, b)"
   ]
  },
  {
   "cell_type": "code",
   "execution_count": 7,
   "metadata": {},
   "outputs": [],
   "source": [
    "def decorated_merge_sort(data, key=None):\n",
    "    \"\"\"Demonstration of the decorate-sort-undecorate pattern.\"\"\"\n",
    "    if key is not None:\n",
    "        for j in range(len(data)):\n",
    "            data[j] = _Item(key(data[j]), data[j])    # decorate each element\n",
    "    merge_sort(data)                                  # sort with existing algorithm\n",
    "    if key is not None:\n",
    "        for j in range(len(data)):\n",
    "            data[j] = data[j]._value                  # undecorate each element\n",
    "        "
   ]
  },
  {
   "cell_type": "code",
   "execution_count": 8,
   "metadata": {},
   "outputs": [
    {
     "ename": "SyntaxError",
     "evalue": "invalid syntax (<ipython-input-8-4cef62d08276>, line 11)",
     "output_type": "error",
     "traceback": [
      "\u001b[0;36m  File \u001b[0;32m\"<ipython-input-8-4cef62d08276>\"\u001b[0;36m, line \u001b[0;32m11\u001b[0m\n\u001b[0;31m    elif k < = len(L) + len(E):\u001b[0m\n\u001b[0m             ^\u001b[0m\n\u001b[0;31mSyntaxError\u001b[0m\u001b[0;31m:\u001b[0m invalid syntax\n"
     ]
    }
   ],
   "source": [
    "def quick_select(S, k):\n",
    "    \"\"\"Return the kth smallest element of list S, for k from 1 to len(S).\"\"\"\n",
    "    if len(S) == 1:\n",
    "        return S[0]\n",
    "    pivot = random.choice(S)              # pick random pivot element from S\n",
    "    L = [x for x in S if x < pivot]       # elements less than pivot\n",
    "    E = [ x for x in S if x == pivot]     # elements equal to pivot\n",
    "    G = [x for x in S if pivot < x]       # elements greater than pivot\n",
    "    if k <= len(L):\n",
    "        return quick_select(L, k)         # kth smallest lies in L\n",
    "    elif k <= len(L) + len(E):\n",
    "        return pivot                      # kth smallest equal to pivot\n",
    "    else:\n",
    "        j = k - len(L) - len(E)           # new selection parameter\n",
    "        return quick_select(G, j)         # kth smallest is jth in G\n"
   ]
  },
  {
   "cell_type": "code",
   "execution_count": null,
   "metadata": {},
   "outputs": [],
   "source": []
  },
  {
   "cell_type": "code",
   "execution_count": null,
   "metadata": {},
   "outputs": [],
   "source": []
  },
  {
   "cell_type": "code",
   "execution_count": null,
   "metadata": {},
   "outputs": [],
   "source": []
  },
  {
   "cell_type": "code",
   "execution_count": null,
   "metadata": {},
   "outputs": [],
   "source": []
  },
  {
   "cell_type": "code",
   "execution_count": null,
   "metadata": {},
   "outputs": [],
   "source": []
  },
  {
   "cell_type": "code",
   "execution_count": null,
   "metadata": {},
   "outputs": [],
   "source": []
  },
  {
   "cell_type": "code",
   "execution_count": null,
   "metadata": {},
   "outputs": [],
   "source": []
  },
  {
   "cell_type": "code",
   "execution_count": null,
   "metadata": {},
   "outputs": [],
   "source": []
  },
  {
   "cell_type": "code",
   "execution_count": null,
   "metadata": {},
   "outputs": [],
   "source": []
  },
  {
   "cell_type": "code",
   "execution_count": null,
   "metadata": {},
   "outputs": [],
   "source": []
  }
 ],
 "metadata": {
  "kernelspec": {
   "display_name": "Python 3",
   "language": "python",
   "name": "python3"
  },
  "language_info": {
   "codemirror_mode": {
    "name": "ipython",
    "version": 3
   },
   "file_extension": ".py",
   "mimetype": "text/x-python",
   "name": "python",
   "nbconvert_exporter": "python",
   "pygments_lexer": "ipython3",
   "version": "3.8.5"
  }
 },
 "nbformat": 4,
 "nbformat_minor": 4
}
