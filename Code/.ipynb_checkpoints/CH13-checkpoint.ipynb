{
 "cells": [
  {
   "cell_type": "code",
   "execution_count": 1,
   "metadata": {},
   "outputs": [],
   "source": [
    "def find_brute(T, P):\n",
    "    \"\"\"Return the lowest index of T at whichi substring P begins (or else -1).\"\"\"\n",
    "    n, m = len(T), len(P)        # introduce convenient notations\n",
    "    for i in range(n-m+1):       # try every potetial starting index within T\n",
    "        k = 0                    # an index into pattern P\n",
    "        while k < m and T[i+k] == P[k]:       # kth character of P matches\n",
    "            k += 1\n",
    "        if k == m:               # if we reached the end of pattern,\n",
    "            return i             # substring T[i:i+m] matches P\n",
    "        return -1                # failed to find a match starting with any i"
   ]
  },
  {
   "cell_type": "code",
   "execution_count": 2,
   "metadata": {},
   "outputs": [],
   "source": [
    "def find_boyer_moore(T: str, P: str) -> int:\n",
    "    \"\"\"Return the lowerst index of T at whichi substring P being (or else -1).\"\"\"\n",
    "    n, m = len(T), len(P)              # introduce convenient notations\n",
    "    if m == 0: return 0                # trivial search for empty string\n",
    "    last = { }                         # build 'last' dictionary\n",
    "    for k in range(m):\n",
    "        last[P[k]] = k                 # later occurence overwrites\n",
    "        # align end of pattern at index m-1 of text\n",
    "        i = m-1                        # an index into T\n",
    "        k = m-1                        # an index into P\n",
    "        while i < n:\n",
    "            if T[i] == P[k]:           # a matching character\n",
    "                if k == 0:\n",
    "                    return i           # pattern begins at index i of text\n",
    "                else:\n",
    "                    i -= 1             # examine previous character\n",
    "                    k -= 1             # of both T and P\n",
    "            else:\n",
    "                j = last.get(T[i], -1) # last(T[i]) is -1 if not found\n",
    "                i += m - min(k, j+1)   # case analysis for jump step\n",
    "                k = m - 1              # restart at end of pattern\n",
    "    return -1"
   ]
  },
  {
   "cell_type": "code",
   "execution_count": null,
   "metadata": {},
   "outputs": [],
   "source": []
  }
 ],
 "metadata": {
  "kernelspec": {
   "display_name": "Python 3",
   "language": "python",
   "name": "python3"
  },
  "language_info": {
   "codemirror_mode": {
    "name": "ipython",
    "version": 3
   },
   "file_extension": ".py",
   "mimetype": "text/x-python",
   "name": "python",
   "nbconvert_exporter": "python",
   "pygments_lexer": "ipython3",
   "version": "3.8.5"
  }
 },
 "nbformat": 4,
 "nbformat_minor": 4
}
