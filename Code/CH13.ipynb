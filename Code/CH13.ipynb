{
 "cells": [
  {
   "cell_type": "code",
   "execution_count": 1,
   "metadata": {},
   "outputs": [],
   "source": [
    "def find_brute(T, P):\n",
    "    \"\"\"Return the lowest index of T at whichi substring P begins (or else -1).\"\"\"\n",
    "    n, m = len(T), len(P)        # introduce convenient notations\n",
    "    for i in range(n-m+1):       # try every potetial starting index within T\n",
    "        k = 0                    # an index into pattern P\n",
    "        while k < m and T[i+k] == P[k]:       # kth character of P matches\n",
    "            k += 1\n",
    "        if k == m:               # if we reached the end of pattern,\n",
    "            return i             # substring T[i:i+m] matches P\n",
    "        return -1                # failed to find a match starting with any i"
   ]
  },
  {
   "cell_type": "code",
   "execution_count": 2,
   "metadata": {},
   "outputs": [],
   "source": [
    "def find_boyer_moore(T: str, P: str) -> int:\n",
    "    \"\"\"Return the lowerst index of T at whichi substring P being (or else -1).\"\"\"\n",
    "    n, m = len(T), len(P)              # introduce convenient notations\n",
    "    if m == 0: return 0                # trivial search for empty string\n",
    "    last = { }                         # build 'last' dictionary\n",
    "    for k in range(m):\n",
    "        last[P[k]] = k                 # later occurence overwrites\n",
    "        # align end of pattern at index m-1 of text\n",
    "        i = m-1                        # an index into T\n",
    "        k = m-1                        # an index into P\n",
    "        while i < n:\n",
    "            if T[i] == P[k]:           # a matching character\n",
    "                if k == 0:\n",
    "                    return i           # pattern begins at index i of text\n",
    "                else:\n",
    "                    i -= 1             # examine previous character\n",
    "                    k -= 1             # of both T and P\n",
    "            else:\n",
    "                j = last.get(T[i], -1) # last(T[i]) is -1 if not found\n",
    "                i += m - min(k, j+1)   # case analysis for jump step\n",
    "                k = m - 1              # restart at end of pattern\n",
    "    return -1"
   ]
  },
  {
   "cell_type": "code",
   "execution_count": 1,
   "metadata": {},
   "outputs": [],
   "source": [
    "def find_kmp(T: str, P:str) -> int:\n",
    "    \"\"\"Return the lowest index of T at which substring P beings (or else -1).\"\"\"\n",
    "    n, m = len(T), len(P)         # introduce convenient notations\n",
    "    if m == 0: return 0           # trivial search for empty string\n",
    "    fail = compute_kmp_fail(P)    # rely on utility to precompute\n",
    "    j = 0                         # index into text\n",
    "    k = 0                         # idnex into pattern\n",
    "    while j < n:\n",
    "        if T[j] == P[k]:          # P[0:1+k] matched thus far\n",
    "            if k == m -1:         # match is complete\n",
    "                return j - m + 1\n",
    "            j += 1                # try to extend match\n",
    "            k += 1\n",
    "        elif k > 0:\n",
    "            k = fail[k-1]         # reuse suffix of P[0:k]\n",
    "        else:\n",
    "            j += 1\n",
    "    return -1                     # reached end without match\n",
    "    "
   ]
  },
  {
   "cell_type": "code",
   "execution_count": 2,
   "metadata": {},
   "outputs": [],
   "source": [
    "def compute_kmp_fail(P):\n",
    "    \"\"\"Utility that computes and returns KMP 'fail' list.\"\"\"\n",
    "    m = len(P)\n",
    "    fail = [0] * m             # by default, presume overlap of 0 everywhere\n",
    "    j = 1\n",
    "    k = 0\n",
    "    while j < m:               # compute f(j) during this pass, if nonzero\n",
    "        if P[j] == P[k]:       # k + 1 characters match thus far \n",
    "            fail[j] = k + 1\n",
    "            j += 1\n",
    "            k += 1\n",
    "        elif k > 0:            # k follws a matching prefix\n",
    "            k = fail[k-1]\n",
    "        else:                  # no match found starting at j\n",
    "            j += 1\n",
    "    return fail"
   ]
  },
  {
   "cell_type": "code",
   "execution_count": 3,
   "metadata": {},
   "outputs": [],
   "source": [
    "def matrix_chain(d):\n",
    "    \"\"\"d is a list of n+1 number such that size of kth matrix is d[k]-by-d[k+1].\n",
    "    \n",
    "    Return an n-by-n table such that N[i][j] represents the minimum number of\n",
    "    multiplications needed to compute the product of Ai throught Aj inclusive.\n",
    "    \"\"\"\n",
    "    n = len(d) - 1                             # number of matrices\n",
    "    N = [[0] * n for i in range(n)]            # initialize n-by-n result to zero\n",
    "    for b in range(1,n):                       # number of products in subchain\n",
    "        for i in range(n-b):                   # start of subchain\n",
    "            j = i + b                          # end of subchain\n",
    "            N[i][j] = min(N[i][k] + N[k+1][j] + d[i]*d[k+1] for k in range(i,j))\n",
    "    return N"
   ]
  },
  {
   "cell_type": "code",
   "execution_count": 4,
   "metadata": {},
   "outputs": [],
   "source": [
    "from typing import List\n",
    "def LCS(X:str, Y:str) -> List:\n",
    "    \"\"\"return table such that L[j][k] is length of LCS for X[0:j] and Y[0:k].\"\"\" \n",
    "    n, m = len(X), len(Y)                 # introduce conveninent notations\n",
    "    L = [[0] * (m+1) for k in range(n+1)] # (n+1) x (m+1) table\n",
    "    for j in range(n):\n",
    "        for k in range(m):\n",
    "            if X[j] == Y[k]:              # aligh this match\n",
    "                L[j+1][k+1] = L[j][k] + 1\n",
    "            else:                         # choose to ignore one character\n",
    "                L[j+1][k+1] = max(L[j][k+1], L[j+1][k])\n",
    "    return L"
   ]
  },
  {
   "cell_type": "code",
   "execution_count": 5,
   "metadata": {},
   "outputs": [],
   "source": [
    "def LCS_solution(X:str, Y:str, L:List) -> str:\n",
    "    \"\"\"Return the longest common substring of X and Y, given LCS table L.\"\"\"\n",
    "    solution = []\n",
    "    j, k = len(X), len(Y)\n",
    "    while L[j][k] > 0:                # common characters remain\n",
    "        if X[j-1] == Y[k-1]:\n",
    "            solution.append(X[j-1])\n",
    "            j -= 1\n",
    "            k -= 1\n",
    "        elif L[j-1][k] >= L[j][k-1]:\n",
    "            j -= 1\n",
    "        else:\n",
    "            k -= 1\n",
    "    return ''.join(reversed(solution)) # return left-to-right version"
   ]
  },
  {
   "cell_type": "code",
   "execution_count": null,
   "metadata": {},
   "outputs": [],
   "source": []
  }
 ],
 "metadata": {
  "kernelspec": {
   "display_name": "Python 3",
   "language": "python",
   "name": "python3"
  },
  "language_info": {
   "codemirror_mode": {
    "name": "ipython",
    "version": 3
   },
   "file_extension": ".py",
   "mimetype": "text/x-python",
   "name": "python",
   "nbconvert_exporter": "python",
   "pygments_lexer": "ipython3",
   "version": "3.8.5"
  }
 },
 "nbformat": 4,
 "nbformat_minor": 4
}
