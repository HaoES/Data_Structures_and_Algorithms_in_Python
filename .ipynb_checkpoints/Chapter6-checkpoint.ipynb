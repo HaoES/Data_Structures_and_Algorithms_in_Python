{
 "cells": [
  {
   "cell_type": "markdown",
   "metadata": {},
   "source": [
    "## Chapter 6 "
   ]
  },
  {
   "cell_type": "markdown",
   "metadata": {},
   "source": [
    "## Reinforcement"
   ]
  },
  {
   "cell_type": "code",
   "execution_count": 3,
   "metadata": {},
   "outputs": [
    {
     "data": {
      "text/plain": [
       "'\\nReturn   Values in the Stack\\n-        [5]\\n-        [5,3]\\n3        [5]\\n-        [5,2]\\n-        [5,2,8]\\n8        [5,2]\\n2        [5]\\n-        [5,9]\\n-        [5,9,1]\\n1        [5,9]\\n-        [5,9,7]\\n-        [5,9,7,6]\\n6        [5,9,7]\\n7        [5,9]\\n-        [5,9,4]\\n4        [5,9]\\n9        [5]\\n\\n\\nNote, we have 9 pushes and 8 pops, so we have one value left in the stack as expected\\n\\n'"
      ]
     },
     "execution_count": 3,
     "metadata": {},
     "output_type": "execute_result"
    }
   ],
   "source": [
    "#-----------R6-1---------------------\n",
    "\"\"\"\n",
    "Return   Values in the Stack\n",
    "-        [5]\n",
    "-        [5,3]\n",
    "3        [5]\n",
    "-        [5,2]\n",
    "-        [5,2,8]\n",
    "8        [5,2]\n",
    "2        [5]\n",
    "-        [5,9]\n",
    "-        [5,9,1]\n",
    "1        [5,9]\n",
    "-        [5,9,7]\n",
    "-        [5,9,7,6]\n",
    "6        [5,9,7]\n",
    "7        [5,9]\n",
    "-        [5,9,4]\n",
    "4        [5,9]\n",
    "9        [5]\n",
    "\n",
    "\n",
    "Note, we have 9 pushes and 8 pops, so we have one value left in the stack as expected\n",
    "\n",
    "\"\"\""
   ]
  },
  {
   "cell_type": "code",
   "execution_count": 4,
   "metadata": {},
   "outputs": [
    {
     "data": {
      "text/plain": [
       "\"\\nNote: top doens't add or remove any element, so we can ignore those\\n\\nIf 3 pop operations failed, we only effectively had 7 complete pops\\n\\nTherefore, we should have 25-7 = 18 elements in the stack\\n\\n\""
      ]
     },
     "execution_count": 4,
     "metadata": {},
     "output_type": "execute_result"
    }
   ],
   "source": [
    "#-----------R6-2------------------\n",
    "\"\"\"\n",
    "Note: top doens't add or remove any element, so we can ignore those\n",
    "\n",
    "If 3 pop operations failed, we only effectively had 7 complete pops\n",
    "\n",
    "Therefore, we should have 25-7 = 18 elements in the stack\n",
    "\n",
    "\"\"\""
   ]
  },
  {
   "cell_type": "code",
   "execution_count": 5,
   "metadata": {},
   "outputs": [
    {
     "name": "stdout",
     "output_type": "stream",
     "text": [
      "Stack is Empty!\n",
      "Top of S is:  19\n",
      "Top of T is:  0\n"
     ]
    },
    {
     "data": {
      "text/plain": [
       "([], [0, 1, 2, 3, 4, 5, 6, 7, 8, 9, 10, 11, 12, 13, 14, 15, 16, 17, 18, 19])"
      ]
     },
     "execution_count": 5,
     "metadata": {},
     "output_type": "execute_result"
    }
   ],
   "source": [
    "# --- R6-3 ---\n",
    "# We first start by implementing a Stack class:\n",
    "class Empty(Exception):\n",
    "    pass\n",
    "\n",
    "class Stack():\n",
    "    def __init__(self):\n",
    "        self._data = []\n",
    "    \n",
    "    def __len__(self):\n",
    "        return len(self._data)\n",
    "    \n",
    "    def is_empty(self):\n",
    "        return len(self._data) == 0\n",
    "    \n",
    "    def push(self, val):\n",
    "        self._data.append(val)\n",
    "    \n",
    "    def top(self):\n",
    "        return self._data[-1]\n",
    "    \n",
    "    def pop(self):\n",
    "        if self.is_empty():\n",
    "            raise Empty(\"Stack is Empty!\")\n",
    "        return self._data.pop()\n",
    "    \n",
    "    def full_pop(self):\n",
    "        ans = []\n",
    "        while not self.is_empty():\n",
    "            ans.append(self.pop())\n",
    "        return ans\n",
    "# Now let's implement the transfer function\n",
    "\n",
    "def transfer(S,T):\n",
    "    while not S.is_empty():\n",
    "        T.push(S.pop())\n",
    "\n",
    "S, T = Stack(), Stack()\n",
    "\n",
    "try: S.pop()\n",
    "except Exception as e: print (e)\n",
    "\n",
    "for i in range(20):\n",
    "    S.push(i)\n",
    "    \n",
    "print('Top of S is: ', S.top())\n",
    "transfer(S, T)  \n",
    "print('Top of T is: ', T.top())\n",
    "S.full_pop(), T.full_pop()\n",
    "\n",
    "    \n",
    "            "
   ]
  },
  {
   "cell_type": "code",
   "execution_count": 6,
   "metadata": {},
   "outputs": [
    {
     "name": "stdout",
     "output_type": "stream",
     "text": [
      "[19, 18, 17, 16, 15, 14, 13, 12, 11, 10, 9, 8, 7, 6, 5, 4, 3, 2, 1, 0]\n"
     ]
    }
   ],
   "source": [
    "#---------R6-4-----------------------\n",
    "class RecStack(Stack):\n",
    "    def rec_full_pop(self, results, counter):\n",
    "        if self.is_empty():\n",
    "            return None\n",
    "        else:\n",
    "            results[counter] = self.pop()\n",
    "            counter += 1\n",
    "            self.rec_full_pop(results, counter)\n",
    "    def full_pop(self): # override the Stack class full_pop method\n",
    "        results = [None] * len(self)\n",
    "        counter = 0\n",
    "        self.rec_full_pop(results, counter)        \n",
    "        return results\n",
    "        \n",
    "S = RecStack()\n",
    "for i in range(20):S.push(i)\n",
    "print(S.full_pop())"
   ]
  },
  {
   "cell_type": "code",
   "execution_count": 7,
   "metadata": {},
   "outputs": [
    {
     "name": "stdout",
     "output_type": "stream",
     "text": [
      "[4, 3, 2, 1]\n"
     ]
    }
   ],
   "source": [
    "#----------R6-5-------------\n",
    "def reverse(l):\n",
    "    S = Stack()\n",
    "    for _ in l:\n",
    "        S.push(_)\n",
    "    for i in range(len(l)):\n",
    "        l[i] = S.pop()\n",
    "    return l\n",
    "test = [1,2,3,4]\n",
    "print(reverse(test))\n",
    "    "
   ]
  },
  {
   "cell_type": "code",
   "execution_count": 8,
   "metadata": {},
   "outputs": [
    {
     "data": {
      "text/plain": [
       "'\\nReturn   Values in the Stack\\n-        [5]\\n-        [5,3]\\n5        [3]\\n-        [3,2]\\n-        [3,2,8]\\n3        [2,8]\\n2        [8]\\n-        [8,9]\\n-        [8,9,1]\\n8        [9,1]\\n-        [9,1,7]\\n-        [9,1,7,6]\\n9        [1,7,6]\\n1        [7,6]\\n-        [7,6,4]\\n7        [6,4]\\n6        [4]\\n\\n'"
      ]
     },
     "execution_count": 8,
     "metadata": {},
     "output_type": "execute_result"
    }
   ],
   "source": [
    "#-------------R6-7---------------------\n",
    "\"\"\"\n",
    "Return   Values in the Stack\n",
    "-        [5]\n",
    "-        [5,3]\n",
    "5        [3]\n",
    "-        [3,2]\n",
    "-        [3,2,8]\n",
    "3        [2,8]\n",
    "2        [8]\n",
    "-        [8,9]\n",
    "-        [8,9,1]\n",
    "8        [9,1]\n",
    "-        [9,1,7]\n",
    "-        [9,1,7,6]\n",
    "9        [1,7,6]\n",
    "1        [7,6]\n",
    "-        [7,6,4]\n",
    "7        [6,4]\n",
    "6        [4]\n",
    "\n",
    "\"\"\""
   ]
  },
  {
   "cell_type": "code",
   "execution_count": 9,
   "metadata": {},
   "outputs": [
    {
     "data": {
      "text/plain": [
       "\"\\nLike before, a dequeue operation that fails doesn't remove anything from the queue, so there are essentially 10 dequeues\\n\\nFirst operations don't change the queue at all\\n\\nTherefore we have 32-10 = 22 (the size of the queue is 22 at that point)\\n\\n\""
      ]
     },
     "execution_count": 9,
     "metadata": {},
     "output_type": "execute_result"
    }
   ],
   "source": [
    "#----------R6-8--------------\n",
    "\"\"\"\n",
    "Like before, a dequeue operation that fails doesn't remove anything from the queue, so there are essentially 10 dequeues\n",
    "\n",
    "First operations don't change the queue at all\n",
    "\n",
    "Therefore we have 32-10 = 22 (the size of the queue is 22 at that point)\n",
    "\n",
    "\"\"\"\n",
    "\n"
   ]
  },
  {
   "cell_type": "code",
   "execution_count": 10,
   "metadata": {},
   "outputs": [
    {
     "data": {
      "text/plain": [
       "'\\nSince it was initially an empty queue, we will assume the front value was initially 0 \\n\\nself._front only increments when a dequeue takes place so the final value would be: \\nself._front =  10 (the number of succesful dequeues) % 30 = 10 \\n'"
      ]
     },
     "execution_count": 10,
     "metadata": {},
     "output_type": "execute_result"
    }
   ],
   "source": [
    "#-------------R6-9-----------------\n",
    "\"\"\"\n",
    "Since it was initially an empty queue, we will assume the front value was initially 0 \n",
    "\n",
    "self._front only increments when a dequeue takes place so the final value would be: \n",
    "self._front =  10 (the number of succesful dequeues) % 30 = 10 \n",
    "\"\"\"\n",
    "\n"
   ]
  },
  {
   "cell_type": "code",
   "execution_count": 11,
   "metadata": {},
   "outputs": [
    {
     "data": {
      "text/plain": [
       "'\\nThis method will copy the data in exactly, but now there will be a huge gap between the middle of the data\\nfilled with None and the next value (which is situated at ._data[0])\\n\\nex. a queue with 1,2,3,4,5,6,7 with front = 3:\\n      F\\n5,6,7,1,2,3,4\\n\\nwould become:\\n      F\\n5,6,7,1,2,3,4,N,N,N,N,N,N,N\\n\\nthe next insertion would be at front + self._size, which would be:\\n      F\\n5,6,7,1,2,3,4,N,N,N,8,N,N,N and so on, which results in the fragmentation of the data.  Successive dequeues would \\nresult in 1,2,3,4,N,N,N,....., N,N instead of the desired 1,2,3,4,5,6,7, is_empty==True\\n\\n\\nconversly, the walk assures that the data will stay both in order and in direct sequence, producing:\\n\\nF\\n1,2,3,4,5,6,7,N,N,N,N,N,N,N\\n\\n'"
      ]
     },
     "execution_count": 11,
     "metadata": {},
     "output_type": "execute_result"
    }
   ],
   "source": [
    "#------------R6-10------------------\n",
    "\"\"\"\n",
    "This method will copy the data in exactly, but now there will be a huge gap between the middle of the data\n",
    "filled with None and the next value (which is situated at ._data[0])\n",
    "\n",
    "ex. a queue with 1,2,3,4,5,6,7 with front = 3:\n",
    "      F\n",
    "5,6,7,1,2,3,4\n",
    "\n",
    "would become:\n",
    "      F\n",
    "5,6,7,1,2,3,4,N,N,N,N,N,N,N\n",
    "\n",
    "the next insertion would be at front + self._size, which would be:\n",
    "      F\n",
    "5,6,7,1,2,3,4,N,N,N,8,N,N,N and so on, which results in the fragmentation of the data.  Successive dequeues would \n",
    "result in 1,2,3,4,N,N,N,....., N,N instead of the desired 1,2,3,4,5,6,7, is_empty==True\n",
    "\n",
    "\n",
    "conversly, the walk assures that the data will stay both in order and in direct sequence, producing:\n",
    "\n",
    "F\n",
    "1,2,3,4,5,6,7,N,N,N,N,N,N,N\n",
    "\n",
    "\"\"\"\n",
    "\n"
   ]
  },
  {
   "cell_type": "code",
   "execution_count": 12,
   "metadata": {},
   "outputs": [
    {
     "name": "stdout",
     "output_type": "stream",
     "text": [
      "First 0 Length 10\n",
      "0, 1, 2, 3, 4, 5, 6, 7, 8, 9, "
     ]
    }
   ],
   "source": [
    "#--------------R6-11---------------------------\n",
    "\"\"\"\n",
    "In our ADT, we want to implement the following behaviours:\n",
    "enqueue\n",
    "dequeue\n",
    "first\n",
    "is_empty\n",
    "len\n",
    "\n",
    "\"\"\"\n",
    "import collections\n",
    "\n",
    "class Queue():\n",
    "    def __init__(self):\n",
    "        self._data = collections.deque()\n",
    "        self._size = 0\n",
    "    \n",
    "    def enqueue(self,val):\n",
    "        self._size += 1\n",
    "        self._data.append(val)\n",
    "        \n",
    "    def __len__(self):\n",
    "        return self._size\n",
    "    \n",
    "    def first(self):\n",
    "        return self._data[0]\n",
    "    \n",
    "    def is_empty(self):\n",
    "        return self._size == 0\n",
    "    \n",
    "    def dequeue(self):\n",
    "        if self._size == 0:\n",
    "            raise Empty(\" The queue is empty!\")\n",
    "        else:\n",
    "            self._size -= 1\n",
    "            a = self._data.popleft()\n",
    "            return a\n",
    "dq = Queue()\n",
    "\n",
    "for i in range(10):\n",
    "    dq.enqueue(i)\n",
    "\n",
    "    \n",
    "print('First', dq.first(), 'Length', len(dq))\n",
    "while not dq.is_empty():\n",
    "    print( dq.dequeue(),  end = ', ')"
   ]
  },
  {
   "cell_type": "code",
   "execution_count": 13,
   "metadata": {},
   "outputs": [
    {
     "data": {
      "text/plain": [
       "\"\\n\\nReturn   Values in the Stack\\n-        [4]\\n-        [4, 8]\\n-        [4, 8, 9]\\n-        [5, 4, 8, 9]\\n9        [5, 4, 8, 9] (the back operation - I'm assuming they meant last() based on their implementation)\\n5        [4, 8, 9]\\n9        [4,8]\\n-        [4,8,7]\\n4        [4,8,7]\\n7        [4,8,7]\\n-        [4,8,7,6]\\n4        [8,7,6]\\n8        [7,6]\\n\\n\""
      ]
     },
     "execution_count": 13,
     "metadata": {},
     "output_type": "execute_result"
    }
   ],
   "source": [
    "#---------------R6-12----------------\n",
    "\"\"\"\n",
    "\n",
    "Return   Values in the Stack\n",
    "-        [4]\n",
    "-        [4, 8]\n",
    "-        [4, 8, 9]\n",
    "-        [5, 4, 8, 9]\n",
    "9        [5, 4, 8, 9] (the back operation - I'm assuming they meant last() based on their implementation)\n",
    "5        [4, 8, 9]\n",
    "9        [4,8]\n",
    "-        [4,8,7]\n",
    "4        [4,8,7]\n",
    "7        [4,8,7]\n",
    "-        [4,8,7,6]\n",
    "4        [8,7,6]\n",
    "8        [7,6]\n",
    "\n",
    "\"\"\""
   ]
  },
  {
   "cell_type": "code",
   "execution_count": 14,
   "metadata": {},
   "outputs": [
    {
     "name": "stdout",
     "output_type": "stream",
     "text": [
      "deque([1, 2, 3, 5, 4, 6, 7, 8])\n"
     ]
    }
   ],
   "source": [
    "#------------R6-13----------------\n",
    "\"\"\"\n",
    "D is a deque, which means that it can accept input at either end\n",
    "\n",
    "Q is a queue, which follows the FIFO approach\n",
    "\"\"\"\n",
    "import collections\n",
    "\n",
    "#Setup\n",
    "D = collections.deque()\n",
    "Q = Queue()\n",
    "for i in range(1, 9, 1):\n",
    "    D.append(i)\n",
    "\n",
    "for i in range(5):          #    D          Q\n",
    "    Q.enqueue(D.popleft())  # [6,7,8]  [1,2,3,4,5]\n",
    "for i in range(3):          #        D        Q\n",
    "    D.append(Q.dequeue())   # [6,7,8,1,2,3] [4,5]\n",
    "for i in range(2):          #             D         Q\n",
    "    D.appendleft(Q.dequeue()) #  [5,4,6,7,8,1,2,3] []\n",
    "for i in range(3):          #      D         Q\n",
    "    Q.enqueue(D.pop())      # [5,4,6,7,8] [1,2,3]\n",
    "for i in range(3):          #           D          Q\n",
    "    D.appendleft(Q.dequeue()) # [1,2,3,5,4,6,7,8] []\n",
    "\n",
    "print(D)\n",
    "        "
   ]
  },
  {
   "cell_type": "code",
   "execution_count": 15,
   "metadata": {},
   "outputs": [
    {
     "name": "stdout",
     "output_type": "stream",
     "text": [
      "deque([1, 2, 3, 5, 4, 6, 7, 8])\n"
     ]
    }
   ],
   "source": [
    "#---------------R6-14----------------------\n",
    "import collections\n",
    "\n",
    "S = Stack()\n",
    "D = collections.deque()\n",
    "\n",
    "for i in range(1,9,1):\n",
    "    D.append(i)\n",
    "\n",
    "for i in range(3):\n",
    "    S.push(D.popleft())\n",
    "for i in range(3):\n",
    "    S.push(D.pop())\n",
    "S.push(D.popleft())\n",
    "D.append(S.pop())\n",
    "for i in range(3):\n",
    "    D.append(S.pop())\n",
    "for i in range(3):\n",
    "    D.appendleft(S.pop())\n",
    "print(D)"
   ]
  },
  {
   "cell_type": "markdown",
   "metadata": {},
   "source": [
    "## Creativity"
   ]
  },
  {
   "cell_type": "code",
   "execution_count": 16,
   "metadata": {},
   "outputs": [
    {
     "data": {
      "text/plain": [
       "'\\nlet S be the stack that Alice is using,\\nwe first assign the top value of the stack to x:\\n    x = S.pop()\\nthen we perform one comparison between the current value of x and the next top value in the stack S:\\n    x = S.pop() if S.pop() > x else x\\n'"
      ]
     },
     "execution_count": 16,
     "metadata": {},
     "output_type": "execute_result"
    }
   ],
   "source": [
    "#-----------------C6-15------------------\n",
    "\"\"\"\n",
    "let S be the stack that Alice is using,\n",
    "we first assign the top value of the stack to x:\n",
    "    x = S.pop()\n",
    "then we perform one comparison between the current value of x and the next top value in the stack S:\n",
    "    x = S.pop() if S.pop() > x else x\n",
    "\"\"\""
   ]
  },
  {
   "cell_type": "code",
   "execution_count": 17,
   "metadata": {},
   "outputs": [],
   "source": [
    "#-----------------C6-16--------------------\n",
    "class Empty(Exception):\n",
    "    pass\n",
    "class Full(Exception):\n",
    "    pass\n",
    "\n",
    "class ArrayStack():\n",
    "    def __init__(self, max_len = None):\n",
    "        self._data = []\n",
    "        self._max_len = max_len\n",
    "    \n",
    "    def __len__(self):\n",
    "        return len(self._data)\n",
    "    \n",
    "    def is_empty(self):\n",
    "        return len(self._data) == 0\n",
    "    \n",
    "    def push(self, e):\n",
    "        if self._maxlen is not None and len(self) == self._maxlen:\n",
    "            raise Full('The array is full')\n",
    "        self._data.append(e)\n",
    "        \n",
    "    def top(self):\n",
    "        if self.is_empty():\n",
    "            raise Empty('Stack is empty')\n",
    "        return self._data[-1]\n",
    "    \n",
    "    def pop(self):\n",
    "        if self.is_empty():\n",
    "            raise Empty('Stack is empty')\n",
    "        return self._data.pop()\n",
    "        "
   ]
  },
  {
   "cell_type": "code",
   "execution_count": 18,
   "metadata": {},
   "outputs": [],
   "source": [
    "#------------------C6-17-------------------\n",
    "\"\"\"\n",
    "Note, for this one we now have to manage the number of elements we insert\n",
    "\n",
    "\"\"\"\n",
    "class Empty(Exception):\n",
    "    pass\n",
    "\n",
    "class Full(Exception):\n",
    "    pass\n",
    "\n",
    "class ArrayStackPrealloc():\n",
    "    def __init__(self, maxlen = 20):\n",
    "        self._capacity = maxlen\n",
    "        self._data = [None]*maxlen\n",
    "        self._n = 0\n",
    "        \n",
    "        \n",
    "    def __len__(self):\n",
    "        return self._n\n",
    "    \n",
    "    def is_empty(self):\n",
    "        return len(self) == 0\n",
    "    \n",
    "    def push(self, value):\n",
    "        if self._n == self._capacity:\n",
    "            raise Full('The stack is full')\n",
    "        self._data[self._n] = value\n",
    "        self._n += 1\n",
    "        \n",
    "    def pop(self):\n",
    "        if self.is_empty():\n",
    "            raise Empty('Stack is empty')\n",
    "        ans = self._data[self._n - 1]\n",
    "        self._data[self._n - 1] = None\n",
    "        self._n -= 1\n",
    "        return ans\n",
    "    \n",
    "    def top(self):\n",
    "        if self.is_empty():\n",
    "            raise Empty('Stack is empty')\n",
    "        return self._data[self._n-1]\n",
    "        "
   ]
  },
  {
   "cell_type": "code",
   "execution_count": 19,
   "metadata": {},
   "outputs": [
    {
     "name": "stdout",
     "output_type": "stream",
     "text": [
      "Reversed stack vs. original\n",
      "N: 0 \tO: 9\n",
      "N: 1 \tO: 8\n",
      "N: 2 \tO: 7\n",
      "N: 3 \tO: 6\n",
      "N: 4 \tO: 5\n",
      "N: 5 \tO: 4\n",
      "N: 6 \tO: 3\n",
      "N: 7 \tO: 2\n",
      "N: 8 \tO: 1\n",
      "N: 9 \tO: 0\n"
     ]
    }
   ],
   "source": [
    "#----------C6-18----------------\n",
    "\"\"\"\n",
    "Note, each time you transfer the contents from one stack to another, they are reversed\n",
    "\n",
    "Therefore, you need to use two stacks to place it back into the original in reverse order\n",
    "\n",
    "Original -> S1 = Reversed Order\n",
    "S1 -> S2 = Original Order\n",
    "S2 -> Original = Reversed Order\n",
    "\n",
    "\n",
    "\"\"\"\n",
    "\n",
    "s, s_orig = Stack(), Stack()   #Need Stack from R6-3\n",
    "\n",
    "for i in range(10):\n",
    "    s.push(i)\n",
    "    s_orig.push(i)\n",
    "\n",
    "def reverse_stack(S):\n",
    "    s1 = Stack()\n",
    "    s2 = Stack()\n",
    "    \n",
    "    while not S.is_empty():    s1.push(S.pop())\n",
    "    while not s1.is_empty():   s2.push(s1.pop())\n",
    "    while not s2.is_empty():   S.push(s2.pop())\n",
    "\n",
    "        \n",
    "        \n",
    "reverse_stack(s)\n",
    "\n",
    "print('Reversed stack vs. original')\n",
    "while not s.is_empty():\n",
    "    print ('N:', s.pop(), '\\tO:', s_orig.pop())"
   ]
  },
  {
   "cell_type": "code",
   "execution_count": 20,
   "metadata": {},
   "outputs": [],
   "source": [
    "#---------C6-19------------------\n",
    "\"\"\"\n",
    "Note, based on the examples, we will assume that the tag is the first word and always terminates with a space\n",
    "\n",
    "\n",
    "\"\"\"\n",
    "\n",
    "def is_matched_html(raw):\n",
    "    S = ArrayStack()   #Need Array Stack from C6-16\n",
    "    j = raw.find('<')\n",
    "    while j != -1:   #j = -1 means that you didn't find one\n",
    "        k = raw.find('>', j+1)\n",
    "        if k == -1:\n",
    "            return False   #Your tag didn't close\n",
    "        \n",
    "        s = raw.find(' ', j+1)\n",
    "        tag = raw[j+1: s if 0<=s<k else k]\n",
    "        #print (tag)\n",
    "        if not tag.startswith('/'): S.push(tag)\n",
    "        else:\n",
    "            if S.is_empty():\n",
    "                return False #You closed a tag that has no opening\n",
    "            if tag[1:] != S.pop():  #You need to remove the forwardslash from the tag\n",
    "                return False  \n",
    "        j = raw.find('<', k+1)\n",
    "        \n",
    "    return True"
   ]
  },
  {
   "cell_type": "code",
   "execution_count": 22,
   "metadata": {},
   "outputs": [],
   "source": [
    "#------------C6-20-------------\n",
    "\"\"\"\n",
    "An explicit stack means that we can use push and pop\n",
    "\n",
    "The hint recommends that we push one value onto the stack so that we are left with n-1 numbers\n",
    "\n",
    "If we start with a complete list, and remove one from it, our list will have n-1 numbers.\n",
    "\n",
    "The 'Base Case' is when the list of numbers leftover is 0\n",
    "\n",
    "With recursion, we sent in both the current list and the remainder, so let's do that here as well.\n",
    "\n",
    "Note that you have to copy the lists, or the mutability of the lists will ruin the process (try removing it to see!)\n",
    "\n",
    "\"\"\"\n",
    "\n",
    "def find_permutations_stack(n):\n",
    "    nums = {x for x in range(1, n+1, 1)}\n",
    "    S = Stack()  #Need Stack from R6-3\n",
    "\n",
    "    for num in nums:\n",
    "        S.push(([num], nums-set([num])))\n",
    "    \n",
    "    while not S.is_empty():\n",
    "        l, remaining = S.pop()\n",
    "        if len(remaining) == 0:\n",
    "            print (l)\n",
    "        else:\n",
    "            for n in remaining:\n",
    "                l2 = l.copy()\n",
    "                l2.append(n)\n",
    "                S.push((l2, nums-set(l2)))\n",
    "        "
   ]
  },
  {
   "cell_type": "code",
   "execution_count": null,
   "metadata": {},
   "outputs": [],
   "source": []
  },
  {
   "cell_type": "code",
   "execution_count": null,
   "metadata": {},
   "outputs": [],
   "source": []
  },
  {
   "cell_type": "code",
   "execution_count": null,
   "metadata": {},
   "outputs": [],
   "source": []
  },
  {
   "cell_type": "code",
   "execution_count": null,
   "metadata": {},
   "outputs": [],
   "source": []
  },
  {
   "cell_type": "code",
   "execution_count": null,
   "metadata": {},
   "outputs": [],
   "source": []
  },
  {
   "cell_type": "code",
   "execution_count": null,
   "metadata": {},
   "outputs": [],
   "source": []
  },
  {
   "cell_type": "code",
   "execution_count": null,
   "metadata": {},
   "outputs": [],
   "source": []
  },
  {
   "cell_type": "code",
   "execution_count": null,
   "metadata": {},
   "outputs": [],
   "source": []
  },
  {
   "cell_type": "code",
   "execution_count": null,
   "metadata": {},
   "outputs": [],
   "source": []
  },
  {
   "cell_type": "code",
   "execution_count": null,
   "metadata": {},
   "outputs": [],
   "source": []
  },
  {
   "cell_type": "code",
   "execution_count": null,
   "metadata": {},
   "outputs": [],
   "source": []
  },
  {
   "cell_type": "code",
   "execution_count": null,
   "metadata": {},
   "outputs": [],
   "source": []
  },
  {
   "cell_type": "code",
   "execution_count": null,
   "metadata": {},
   "outputs": [],
   "source": []
  },
  {
   "cell_type": "code",
   "execution_count": null,
   "metadata": {},
   "outputs": [],
   "source": []
  }
 ],
 "metadata": {
  "kernelspec": {
   "display_name": "Python 3",
   "language": "python",
   "name": "python3"
  },
  "language_info": {
   "codemirror_mode": {
    "name": "ipython",
    "version": 3
   },
   "file_extension": ".py",
   "mimetype": "text/x-python",
   "name": "python",
   "nbconvert_exporter": "python",
   "pygments_lexer": "ipython3",
   "version": "3.8.5"
  }
 },
 "nbformat": 4,
 "nbformat_minor": 4
}
