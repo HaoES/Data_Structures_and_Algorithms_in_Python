{
 "cells": [
  {
   "cell_type": "markdown",
   "metadata": {},
   "source": [
    "# Chapter 4"
   ]
  },
  {
   "cell_type": "markdown",
   "metadata": {},
   "source": [
    "## Reinforcement "
   ]
  },
  {
   "cell_type": "code",
   "execution_count": 5,
   "metadata": {},
   "outputs": [
    {
     "name": "stdout",
     "output_type": "stream",
     "text": [
      "65464\n"
     ]
    }
   ],
   "source": [
    "#R4-1-Describe a recursive algorithm for ﬁnding the maximum element in a sequence, S, of n elements. What is your running time and space usage?\n",
    "\n",
    "def max_rec(S, start):\n",
    "    if len(S) == 1:\n",
    "        return S[0]\n",
    "    if S[start] <= S[start + 1]:\n",
    "        del S[start]\n",
    "    elif S[start] > S[start + 1]:\n",
    "        del S[start + 1]\n",
    "    return max_rec(S, start)\n",
    "\n",
    "print(max_rec([1,3,4325,546,3,65,453,234,65464,3],0))\n",
    "# this function uses O(n) time and O(1) space since because this is not a linear recursion, no auxiliary space is created, and items on the list are shifted by one each time.        "
   ]
  },
  {
   "cell_type": "code",
   "execution_count": 6,
   "metadata": {},
   "outputs": [
    {
     "name": "stdout",
     "output_type": "stream",
     "text": [
      "32\n"
     ]
    }
   ],
   "source": [
    "#------R4-2----------------------\n",
    "def power(x,n):\n",
    "    if n==0:\n",
    "        return 1\n",
    "    else:\n",
    "        return x*power(x, n-1)\n",
    "\n",
    "\"\"\"\n",
    "power(2, 5)    returns 16*2  = 32\n",
    "    power(2,4)       returns 8*2 = 16\n",
    "        power(2,3)     returns 4*2 = 8\n",
    "            power (2,2)     returns 2*2 = 4\n",
    "                power (2,1)   returns 2*1 = 2\n",
    "                    power (2,0) returns 1\n",
    "\n",
    "\"\"\"\n",
    "\n",
    "\n",
    "print(power(2,5))"
   ]
  },
  {
   "cell_type": "code",
   "execution_count": 7,
   "metadata": {},
   "outputs": [
    {
     "name": "stdout",
     "output_type": "stream",
     "text": [
      "262144\n"
     ]
    }
   ],
   "source": [
    "#---R4-3-Draw the recursion trace for the computation of power(2, 18), using the repeated squaring algorithm, as implemented in Code Fragment 4.12.\n",
    "\n",
    "def power(x, n):\n",
    "    if n==0:\n",
    "        return 1\n",
    "    else:\n",
    "        partial = power(x, n//2)\n",
    "        result = partial*partial\n",
    "        if n%2 == 1:\n",
    "            result *= x\n",
    "        return result\n",
    "\n",
    "\"\"\"\n",
    "power(2,18) return 512*512 = 262144\n",
    "    power (2,9) return 2*16*16 = 512\n",
    "        power (2,4)  return 4*4 = 16\n",
    "            power (2,2)  return 2*2 = 4\n",
    "                power (2,1)   return (1*1)*2 = 2\n",
    "                    power (2,0)   return 1\n",
    "\n",
    "\"\"\"\n",
    "print (power(2,18))"
   ]
  },
  {
   "cell_type": "code",
   "execution_count": 8,
   "metadata": {},
   "outputs": [
    {
     "name": "stdout",
     "output_type": "stream",
     "text": [
      "[6, 2, 6, 3, 4]\n"
     ]
    }
   ],
   "source": [
    "#---R4-4---Draw the recursion trace for the execution of function reverse(S, 0, 5)(Code Fragment 4.10) on S = [4, 3, 6, 2, 6].\n",
    "\n",
    "def reverse(S, start, stop):\n",
    "    if start < stop-1:\n",
    "        S[start], S[stop-1] = S[stop-1], S[start]\n",
    "        reverse(S, start+1, stop-1)\n",
    "        \n",
    "\"\"\"\n",
    "\n",
    "reverse(S, 0, 5)   return None (S is [6, 2, 6, 3, 4] at the return)\n",
    "    recurse(S, 1, 4)    return None (S is [6, 2, 6, 3, 4] at the return)\n",
    "        recurses(S, 2, 3)     return None  (S is [6, 2, 6, 3, 4])\n",
    "            \n",
    "\n",
    "After everything, S is [6, 2, 6, 3, 4].  Note that this function changes the original array\n",
    "\n",
    "Note that in this recursion, the swaps happen before the next recursion is called, and the return is none\n",
    "\n",
    "\n",
    "\"\"\"\n",
    "\n",
    "S = [4, 3, 6, 2, 6]\n",
    "reverse(S, 0, 5)\n",
    "print(S)\n"
   ]
  },
  {
   "cell_type": "code",
   "execution_count": 16,
   "metadata": {},
   "outputs": [
    {
     "name": "stdout",
     "output_type": "stream",
     "text": [
      "PuzzleSolver(3,[],{'c', 'a', 'b', 'd'})\n",
      "  PuzzleSolver(2,['a'],{'c', 'b', 'd'})\n",
      "    PuzzleSolver(1,['a', 'b'],{'c', 'd'})\n",
      "      PuzzleSolver(1,['a', 'c'],{'b', 'd'})\n",
      "        PuzzleSolver(1,['a', 'd'],{'b', 'c'})\n",
      "          PuzzleSolver(2,['b'],{'d', 'c', 'a'})\n",
      "            PuzzleSolver(1,['b', 'a'],{'d', 'c'})\n",
      "              PuzzleSolver(1,['b', 'c'],{'d', 'a'})\n",
      "                PuzzleSolver(1,['b', 'd'],{'c', 'a'})\n",
      "                  PuzzleSolver(2,['c'],{'d', 'b', 'a'})\n",
      "                    PuzzleSolver(1,['c', 'a'],{'d', 'b'})\n",
      "                      PuzzleSolver(1,['c', 'b'],{'d', 'a'})\n",
      "                        PuzzleSolver(1,['c', 'd'],{'b', 'a'})\n",
      "                          PuzzleSolver(2,['d'],{'b', 'c', 'a'})\n",
      "                            PuzzleSolver(1,['d', 'a'],{'b', 'c'})\n",
      "                              PuzzleSolver(1,['d', 'b'],{'c', 'a'})\n",
      "                                PuzzleSolver(1,['d', 'c'],{'b', 'a'})\n"
     ]
    }
   ],
   "source": [
    "#--------------R4-5------------------------\n",
    "#Note that S is our attempt at solving the sequence and U is our set of all possible numbers that are unused\n",
    "def solves(S):\n",
    "    #Note, this is a random solution to the pseudoproblem\n",
    "    return S == ['d','b','c']\n",
    "trace = []\n",
    "\n",
    "def PuzzleSolver(k, S, U):\n",
    "    global trace\n",
    "    trace.append(f\"PuzzleSolver({k},{S},{U})\")\n",
    "    \n",
    "    for e in sorted(U).copy():\n",
    "        S.append(e)\n",
    "        U.remove(e)\n",
    "        if k==1:\n",
    "            if solves(S):\n",
    "                pass\n",
    "        else:\n",
    "            PuzzleSolver(k-1, S, U)\n",
    "        U.add(S.pop())  #removes the last item of an array\n",
    "        \n",
    "PuzzleSolver(3, [], {'a','b','c','d'})\n",
    "for i in range(len(trace)):\n",
    "    print(f\"{i*'  '}{trace[i]}\")\n",
    "    \n"
   ]
  },
  {
   "cell_type": "code",
   "execution_count": 20,
   "metadata": {},
   "outputs": [
    {
     "name": "stdout",
     "output_type": "stream",
     "text": [
      "1.5\n"
     ]
    }
   ],
   "source": [
    "#---R4-6---Describe a recursive function for computing the n th Harmonic number,Hn = ∑ 1/i.\n",
    "def harmorec(n):\n",
    "    if n == 1:\n",
    "        return 1\n",
    "    else:\n",
    "        return 1/n + harmorec(n-1)\n",
    "\n",
    "print(harmorec(2))\n",
    "# this requires O(n) time and space complexity"
   ]
  },
  {
   "cell_type": "code",
   "execution_count": 24,
   "metadata": {},
   "outputs": [
    {
     "name": "stdout",
     "output_type": "stream",
     "text": [
      "6575543 <class 'int'>\n"
     ]
    }
   ],
   "source": [
    "#---R4-7---Describe a recursive function for converting a string of digits into the integer it represents. For example, 13531 represents the integer 13, 531.\n",
    "def str_to_int(S,index = 0):\n",
    "    if index == len(S) - 1:\n",
    "        return int(S[index])\n",
    "    else:\n",
    "        return int(S[index])*10**(len(S) - index - 1) + str_to_int(S,index+1)\n",
    "\"\"\"\n",
    "This runs in 0(n) time and space\n",
    "\n",
    "\"\"\" \n",
    "    \n",
    "ans = str_to_int('6575543')\n",
    "print (ans, type(ans))"
   ]
  },
  {
   "cell_type": "code",
   "execution_count": 25,
   "metadata": {},
   "outputs": [
    {
     "data": {
      "text/plain": [
       "'\\nThe recursion will be called log(n) times, since the array is divided in half each time\\n\\n\\nEach call will require you to access all of the remaining elements, which means it will be\\nn + n/2 + n/4 + ...\\n\\nThis is equal to n* Sum(1/2**i), which is <2n\\n\\nTherefore, the running time is O(n), although a much slower implementation than just adding them up element by element\\n\\n'"
      ]
     },
     "execution_count": 25,
     "metadata": {},
     "output_type": "execute_result"
    }
   ],
   "source": [
    "#---R4-8---\n",
    "\"\"\"\n",
    "Isabel has an interesting way of summing up the values in a sequence A of n integers, where n is a power of two. \n",
    "She creates a new sequence B of half the size of A and sets B[i] = A[2i] + A[2i + 1], for i = 0, 1, . . . , (n/2) − 1. If B has size 1, \n",
    "then she outputs B[0]. Otherwise, she replaces A with B, and repeats the process. What is the running time of her algorithm?\n",
    "\"\"\"\n",
    "import math\n",
    "\n",
    "def isabel_method(A):\n",
    "    assert math.log(len(A),2)%1 == 0, 'Your array must be a length that is a power of 2'\n",
    "    if len(A) == 1:\n",
    "        return A[0]\n",
    "    else:\n",
    "        B = [None]*(len(A)//2)\n",
    "        for i in range(len(B)):\n",
    "            B[i] = A[2*i] + A[2*i-1]           \n",
    "        return isabel_method(B)\n",
    "\n",
    "\"\"\"\n",
    "The recursion will be called log(n) times, since the array is divided in half each time\n",
    "\n",
    "\n",
    "Each call will require you to access all of the remaining elements, which means it will be\n",
    "n + n/2 + n/4 + ...\n",
    "\n",
    "This is equal to n* Sum(1/2**i), which is <2n\n",
    "\n",
    "Therefore, the running time is O(n), although a much slower implementation than just adding them up element by element\n",
    "\n",
    "\"\"\""
   ]
  },
  {
   "cell_type": "markdown",
   "metadata": {},
   "source": [
    "## Creativity"
   ]
  },
  {
   "cell_type": "code",
   "execution_count": 27,
   "metadata": {},
   "outputs": [
    {
     "name": "stdout",
     "output_type": "stream",
     "text": [
      "(1, 7)\n"
     ]
    }
   ],
   "source": [
    "#---C-4.9---Write a short recursive Python function that ﬁnds the minimum and maximum values in a sequence without using any loops.\n",
    "def minmaxrec(S, index = 0 ):\n",
    "    if index == len(S) -1:\n",
    "        return (S[index],S[index]) \n",
    "    else:\n",
    "        min_, max_ = minmaxrec(S, index+1)\n",
    "        return (min(S[index],min_),max(S[index],max_))\n",
    "    \n",
    "a = [1,2,3,5,7,4]\n",
    "print(minmaxrec(a))\n",
    "        \n",
    "            "
   ]
  },
  {
   "cell_type": "code",
   "execution_count": 28,
   "metadata": {},
   "outputs": [],
   "source": [
    "#---C-4.10---Describe a recursive algorithm to compute the integer part of the base-two logarithm of n using only addition and integer division.\n",
    "def intlog(n):\n",
    "    if n < 2:\n",
    "        return 0\n",
    "    else:\n",
    "        return 1 + intlog(n//2)"
   ]
  },
  {
   "cell_type": "code",
   "execution_count": 29,
   "metadata": {},
   "outputs": [
    {
     "name": "stdout",
     "output_type": "stream",
     "text": [
      "True\n",
      "False\n"
     ]
    }
   ],
   "source": [
    "#---C-4.11---Describe an efﬁcient recursive function for solving the element uniqueness problem, which runs in time that is at most O(n2) in the worst case \n",
    "#without using sorting.\n",
    "def uniq(S,index = 0):\n",
    "    if index == len(S) - 1:\n",
    "        return True\n",
    "    else:\n",
    "        unique = True\n",
    "        for i in range(index+1,len(S)):\n",
    "            if S[index] == S[i]: \n",
    "                unique = False\n",
    "                break\n",
    "        return unique and uniq(S,index+1)\n",
    "    \n",
    "a = [1,2,3,4,5,6,7]\n",
    "b = [1,345,64363,2142,6,7,3452,234,523523,2,1]\n",
    "\n",
    "print(uniq(a))\n",
    "print(uniq(b))"
   ]
  },
  {
   "cell_type": "code",
   "execution_count": 30,
   "metadata": {},
   "outputs": [
    {
     "name": "stdout",
     "output_type": "stream",
     "text": [
      "20\n"
     ]
    }
   ],
   "source": [
    "#---C4-12---Give a recursive algorithm to compute the product of two positive integers, m and n, using only addition and subtraction.\n",
    "def prod(m,n):\n",
    "    if n == 0:\n",
    "        return 0\n",
    "    else:\n",
    "        return m + prod(m,n-1) \n",
    "print(prod(4,5))"
   ]
  },
  {
   "cell_type": "code",
   "execution_count": 31,
   "metadata": {},
   "outputs": [
    {
     "data": {
      "text/plain": [
       "'\\nBase case: F(0) = 2 + 0 - 2 = 0\\n    \\n\\nWhen you add 1 to c, you draw 2 iterations of the previous -> 2*F(c-1) and 1 line of length C\\n\\nTherefore F(C) = 2*(2**(c+1-1) - (c-1) -2) + c = 2**(c+1) - 2*(c-1) - 4 + c\\n\\n2**(c+1) - 2*(c-1) - 4 + c \\n= 2**(c+1) - 2c +2 -4 +c\\n= 2**(c+1) -c -2 as required\\n\\n'"
      ]
     },
     "execution_count": 31,
     "metadata": {},
     "output_type": "execute_result"
    }
   ],
   "source": [
    "#---C4-13---In Section 4.2 we prove by induction that the number of lines printed by a call to draw interval(c) is 2^c − 1. Another interesting question is how\n",
    "# many dashes are printed during that process. Prove by induction that the number of dashes printed by draw_interval(c) is 2^c+1 − c − 2.\n",
    "\"\"\"\n",
    "Base case: F(0) = 2 + 0 - 2 = 0\n",
    "    \n",
    "\n",
    "When you add 1 to c, you draw 2 iterations of the previous -> 2*F(c-1) and 1 line of length C\n",
    "\n",
    "Therefore F(C) = 2*(2**(c+1-1) - (c-1) -2) + c = 2**(c+1) - 2*(c-1) - 4 + c\n",
    "\n",
    "2**(c+1) - 2*(c-1) - 4 + c \n",
    "= 2**(c+1) - 2c +2 -4 +c\n",
    "= 2**(c+1) -c -2 as required\n",
    "\n",
    "\"\"\""
   ]
  },
  {
   "cell_type": "code",
   "execution_count": 40,
   "metadata": {},
   "outputs": [
    {
     "name": "stdout",
     "output_type": "stream",
     "text": [
      "========= Status =========\n",
      "[a] : [5, 4, 3, 2]\n",
      "[b] : []\n",
      "[c] : [1]\n",
      "========= Status =========\n",
      "[a] : [5, 4, 3]\n",
      "[b] : [2]\n",
      "[c] : [1]\n",
      "========= Status =========\n",
      "[a] : [5, 4, 3]\n",
      "[b] : [2, 1]\n",
      "[c] : []\n",
      "========= Status =========\n",
      "[a] : [5, 4]\n",
      "[b] : [2, 1]\n",
      "[c] : [3]\n",
      "========= Status =========\n",
      "[a] : [5, 4, 1]\n",
      "[b] : [2]\n",
      "[c] : [3]\n",
      "========= Status =========\n",
      "[a] : [5, 4, 1]\n",
      "[b] : []\n",
      "[c] : [3, 2]\n",
      "========= Status =========\n",
      "[a] : [5, 4]\n",
      "[b] : []\n",
      "[c] : [3, 2, 1]\n",
      "========= Status =========\n",
      "[a] : [5]\n",
      "[b] : [4]\n",
      "[c] : [3, 2, 1]\n",
      "========= Status =========\n",
      "[a] : [5]\n",
      "[b] : [4, 1]\n",
      "[c] : [3, 2]\n",
      "========= Status =========\n",
      "[a] : [5, 2]\n",
      "[b] : [4, 1]\n",
      "[c] : [3]\n",
      "========= Status =========\n",
      "[a] : [5, 2, 1]\n",
      "[b] : [4]\n",
      "[c] : [3]\n",
      "========= Status =========\n",
      "[a] : [5, 2, 1]\n",
      "[b] : [4, 3]\n",
      "[c] : []\n",
      "========= Status =========\n",
      "[a] : [5, 2]\n",
      "[b] : [4, 3]\n",
      "[c] : [1]\n",
      "========= Status =========\n",
      "[a] : [5]\n",
      "[b] : [4, 3, 2]\n",
      "[c] : [1]\n",
      "========= Status =========\n",
      "[a] : [5]\n",
      "[b] : [4, 3, 2, 1]\n",
      "[c] : []\n",
      "========= Status =========\n",
      "[a] : []\n",
      "[b] : [4, 3, 2, 1]\n",
      "[c] : [5]\n",
      "========= Status =========\n",
      "[a] : [1]\n",
      "[b] : [4, 3, 2]\n",
      "[c] : [5]\n",
      "========= Status =========\n",
      "[a] : [1]\n",
      "[b] : [4, 3]\n",
      "[c] : [5, 2]\n",
      "========= Status =========\n",
      "[a] : []\n",
      "[b] : [4, 3]\n",
      "[c] : [5, 2, 1]\n",
      "========= Status =========\n",
      "[a] : [3]\n",
      "[b] : [4]\n",
      "[c] : [5, 2, 1]\n",
      "========= Status =========\n",
      "[a] : [3]\n",
      "[b] : [4, 1]\n",
      "[c] : [5, 2]\n",
      "========= Status =========\n",
      "[a] : [3, 2]\n",
      "[b] : [4, 1]\n",
      "[c] : [5]\n",
      "========= Status =========\n",
      "[a] : [3, 2, 1]\n",
      "[b] : [4]\n",
      "[c] : [5]\n",
      "========= Status =========\n",
      "[a] : [3, 2, 1]\n",
      "[b] : []\n",
      "[c] : [5, 4]\n",
      "========= Status =========\n",
      "[a] : [3, 2]\n",
      "[b] : []\n",
      "[c] : [5, 4, 1]\n",
      "========= Status =========\n",
      "[a] : [3]\n",
      "[b] : [2]\n",
      "[c] : [5, 4, 1]\n",
      "========= Status =========\n",
      "[a] : [3]\n",
      "[b] : [2, 1]\n",
      "[c] : [5, 4]\n",
      "========= Status =========\n",
      "[a] : []\n",
      "[b] : [2, 1]\n",
      "[c] : [5, 4, 3]\n",
      "========= Status =========\n",
      "[a] : [1]\n",
      "[b] : [2]\n",
      "[c] : [5, 4, 3]\n",
      "========= Status =========\n",
      "[a] : [1]\n",
      "[b] : []\n",
      "[c] : [5, 4, 3, 2]\n",
      "========= Status =========\n",
      "[a] : []\n",
      "[b] : []\n",
      "[c] : [5, 4, 3, 2, 1]\n"
     ]
    }
   ],
   "source": [
    "#---C4-14--- In the Towers of Hanoi puzzle, we are given a platform with three pegs, a, b, and c, sticking out of it. \n",
    "#On peg a is a stack of n disks, each larger than the next, so that the smallest is on the top and the largest is on the bottom.\n",
    "#The puzzle is to move all the disks from peg a to peg c, moving one disk at a time, so that we never place a larger disk on top of a smaller one.\n",
    "#See Figure 4.15 for an example of the case n = 4. Describe a recursive algorithm for solving the Towers of Hanoi puzzle for arbitrary n. (Hint:\n",
    "#Consider ﬁrst the subproblem of moving all but the n th disk from peg a to another peg using the third as “temporary storage.”)\n",
    "def movedisk(from_peg, to_peg):\n",
    "    to_peg.append(from_peg.pop())\n",
    "    print(\"========= Status =========\")\n",
    "    print(f\"[a] : {a}\")\n",
    "    print(f\"[b] : {b}\")\n",
    "    print(f\"[c] : {c}\")\n",
    "\n",
    "def hanoirec(n,a, b, c):\n",
    "    if n == 1:\n",
    "        movedisk(a, c)\n",
    "    else:\n",
    "        hanoirec(n-1,a, c, b)\n",
    "        movedisk(a,c)\n",
    "        hanoirec(n-1,b, a, c)\n",
    "\n",
    "n = 5\n",
    "a = list(reversed(range(1,n+1)))\n",
    "b = []\n",
    "c = []\n",
    "hanoirec(n,a,b,c)\n",
    "# for more explanation:https://www.youtube.com/watch?v=rf6uf3jNjbo"
   ]
  },
  {
   "cell_type": "code",
   "execution_count": 42,
   "metadata": {},
   "outputs": [
    {
     "data": {
      "text/plain": [
       "[[4, 3, 2, 1],\n",
       " [4, 3, 2],\n",
       " [4, 3, 1],\n",
       " [4, 3],\n",
       " [4, 2, 1],\n",
       " [4, 2],\n",
       " [4, 1],\n",
       " [4],\n",
       " [3, 2, 1],\n",
       " [3, 2],\n",
       " [3, 1],\n",
       " [3],\n",
       " [2, 1],\n",
       " [2],\n",
       " [1],\n",
       " []]"
      ]
     },
     "execution_count": 42,
     "metadata": {},
     "output_type": "execute_result"
    }
   ],
   "source": [
    "#---C4.15--- Write a recursive function that will output all the subsets of a set of n elements (without repeating any subsets).\n",
    "def subsets(s, n): \n",
    "    if n == 0:\n",
    "        return [[]]\n",
    "    return [[s[n-1]] + i for i in subsets(s, n-1)] + subsets(s, n-1)\n",
    "a = [1,2,3,4]\n",
    "subsets(a,4)\n",
    "    "
   ]
  },
  {
   "cell_type": "code",
   "execution_count": 49,
   "metadata": {},
   "outputs": [
    {
     "name": "stdout",
     "output_type": "stream",
     "text": [
      "arukasa\n"
     ]
    }
   ],
   "source": [
    "#---C4.16--- Write a short recursive Python function that takes a character string s and outputs its reverse. For example, the reverse of pots&pans would be\n",
    "#snap&stop .\n",
    "def reverse(s, n):\n",
    "    if n == 1:\n",
    "        return s[0]\n",
    "    else:\n",
    "        return s[n-1] + reverse(s,n-1) \n",
    "s = \"asakura\"\n",
    "print(reverse(s,7))\n",
    "\n",
    "    "
   ]
  },
  {
   "cell_type": "code",
   "execution_count": 62,
   "metadata": {},
   "outputs": [
    {
     "name": "stdout",
     "output_type": "stream",
     "text": [
      "False\n",
      "True\n",
      "True\n"
     ]
    }
   ],
   "source": [
    "#---C4.17--- Write a short recursive Python function that determines if a string s is a palindrome, that is, it is equal to its reverse.\n",
    "# For example, 'racecar' and 'gohangasalamiimalasagnahog' are palindromes.\n",
    "def palin(s,n = None):\n",
    "    if n is None:\n",
    "        n = len(s)\n",
    "    if n == 1:\n",
    "        return True\n",
    "    else:\n",
    "        return s[len(s) - n] == s[n-1] and palin(s,n-1)\n",
    "print(palin('sam'))\n",
    "print(palin('racecar'))\n",
    "print(palin('gohangasalamiimalasagnahog'))"
   ]
  },
  {
   "cell_type": "code",
   "execution_count": 83,
   "metadata": {},
   "outputs": [
    {
     "name": "stdout",
     "output_type": "stream",
     "text": [
      "True\n",
      "True\n"
     ]
    }
   ],
   "source": [
    "#---C4.18--- Use recursion to write a Python function for determining if a string s has more vowels than consonants.\n",
    "vow = 'aeiuo'\n",
    "v = []\n",
    "def vowrec(s,index = 0):\n",
    "    a = s[index] in vow \n",
    "    if index == len(s) -1:\n",
    "        v.append(a)\n",
    "    else:\n",
    "        v.append(a)\n",
    "        vowrec(s,index+1)\n",
    "    return sum(v) > len(s) // 2\n",
    "        \n",
    "\n",
    "s = 'hazae'\n",
    "print(vowrec(s))\n",
    "print(s[0] in \"hsdf\")\n",
    "        "
   ]
  },
  {
   "cell_type": "code",
   "execution_count": 90,
   "metadata": {},
   "outputs": [
    {
     "name": "stdout",
     "output_type": "stream",
     "text": [
      "[8, 6, 4, 2, 7, 5, 3, 1]\n"
     ]
    }
   ],
   "source": [
    "#---C4.19--- Write a short recursive Python function that rearranges a sequence of integer values so that all the even values appear before all the odd values.\n",
    "\n",
    "even = []\n",
    "odd = []\n",
    "def oddeven(s, index = 0):\n",
    "    if len(s) == 1:\n",
    "        if s[0] % 2:\n",
    "            odd.append(s[0])\n",
    "        else:\n",
    "            even.append(s[0])\n",
    "    else:\n",
    "        val = s.pop()\n",
    "        if val % 2:\n",
    "            odd.append(val)\n",
    "        else:\n",
    "            even.append(val)\n",
    "        oddeven(s)\n",
    "    return even + odd\n",
    "\n",
    "test = [1,2,3,4,5,6,7,8] \n",
    "print(oddeven(test))"
   ]
  },
  {
   "cell_type": "code",
   "execution_count": 92,
   "metadata": {},
   "outputs": [
    {
     "data": {
      "text/plain": [
       "[1, 2, 3, 3, 5, 7]"
      ]
     },
     "execution_count": 92,
     "metadata": {},
     "output_type": "execute_result"
    }
   ],
   "source": [
    "#---C4.20--- Given an unsorted sequence, S, of integers and an integer k, describe a recursive algorithm for rearranging the elements in S so that all elements\n",
    "#less than or equal to k come before any elements larger than k. What is the running time of your algorithm on a sequence of n values?\n",
    "\n",
    "\n",
    "def seperate_by_k(S,k):\n",
    "    if not S:\n",
    "        return []\n",
    "    if S[0] <= k:\n",
    "        return [S[0]] + seperate_by_k(S[1:], k)\n",
    "    else:\n",
    "        return seperate_by_k(S[1:], k) + [S[0]]\n",
    "    \n",
    "seperate_by_k([1, 2, 3, 7, 5, 3], 4)\n",
    "# this algorithms runs in O(n)"
   ]
  },
  {
   "cell_type": "code",
   "execution_count": 97,
   "metadata": {},
   "outputs": [
    {
     "name": "stdout",
     "output_type": "stream",
     "text": [
      "(6, 4)\n"
     ]
    }
   ],
   "source": [
    "#---C4.21--- Suppose you are given an n-element sequence, S, containing distinct integers that are listed in increasing order. Given a number k, describe a\n",
    "#recursive algorithm to ﬁnd two integers in S that sum to k, if such a pair exists. What is the running time of your algorithm?\n",
    "a = [2,3,4,5,6,9]\n",
    "def summ(s,k):\n",
    "    start = 0\n",
    "    stop = len(s) - 1\n",
    "    if stop == start:\n",
    "        return False\n",
    "    else:\n",
    "        if s[stop] + s[start] == k:\n",
    "            return s[stop], s[start]\n",
    "        elif s[stop] + s[start] > k:\n",
    "            return summ(s[start:stop],k)\n",
    "        else:\n",
    "            return summ(s[start+1:],k)\n",
    "\n",
    "print(summ(a,10))\n",
    "# this run in O(n) time"
   ]
  },
  {
   "cell_type": "code",
   "execution_count": 4,
   "metadata": {},
   "outputs": [
    {
     "name": "stdout",
     "output_type": "stream",
     "text": [
      "\n",
      " 4294967296 8192\n",
      "\n",
      " 18446744073709551616 32768\n",
      "\n",
      " 3433683820292512484657849089281 14348907\n",
      "\n",
      " 10000000000000000 10000000\n",
      "\n",
      " 256 32\n"
     ]
    }
   ],
   "source": [
    "#---C4.22--- Develop a nonrecursive implementation of the version of power from Code Fragment 4.12 that uses repeated squaring.\n",
    "\n",
    "def powerr(x,n):\n",
    "    a = n\n",
    "    result = x\n",
    "    while a > 1:\n",
    "        if a % 2:\n",
    "            result *= result\n",
    "        result *= result\n",
    "        a = a // 2\n",
    "    if n % 2:\n",
    "        result *= x\n",
    "    return result\n",
    "combos = [ (2,13), (2, 15), (3, 15), (10, 7), (2, 5)]\n",
    "for b, p in combos:\n",
    "    print('\\n', powerr(b, p), b**p)"
   ]
  },
  {
   "cell_type": "code",
   "execution_count": 18,
   "metadata": {},
   "outputs": [
    {
     "name": "stdout",
     "output_type": "stream",
     "text": [
      "\n",
      " 8192 8192\n",
      "\n",
      " 32768 32768\n",
      "\n",
      " 14348907 14348907\n",
      "\n",
      " 177147 177147\n",
      "\n",
      " 32 32\n"
     ]
    }
   ],
   "source": [
    "# This does not work always because it does not take into account when a//2 is odd, this problem is not present in the recurcive case because the function \n",
    "# can handle that. \n",
    "# For example for powerr(2,13) a takes the values: 13, 3, 6, 1 so the result will be: 2^2^2^2 * 2 which is not the correct answer because: 2^13 = ((2*2^2)^2^2) * 2\n",
    "# The solution is using binary exponentiation, more info on: https://www.youtube.com/watch?v=L-Wzglnm4dM\n",
    "\n",
    "def power_loop(x, n):\n",
    "    factor = n\n",
    "    partial = 1\n",
    "    \n",
    "    while factor > 0:\n",
    "        if factor % 2:\n",
    "            partial *= x\n",
    "        x *= x\n",
    "        factor = factor //2\n",
    "    return partial\n",
    "\n",
    "combos = [ (2,13), (2, 15), (3, 15), (3, 11), (2, 5)]\n",
    "for b, p in combos:\n",
    "    print('\\n', power_loop(b, p), b**p)"
   ]
  },
  {
   "cell_type": "markdown",
   "metadata": {},
   "source": [
    "## Projects"
   ]
  },
  {
   "cell_type": "code",
   "execution_count": 24,
   "metadata": {},
   "outputs": [],
   "source": [
    "#---P4-23---Implement a recursive function with signature ﬁnd(path, ﬁlename) that reports all entries of the ﬁle system rooted at the given path having the\n",
    "# given ﬁle name.\n",
    "import os\n",
    "\"\"\"\n",
    "The os functions that we are given are:\n",
    "os.path.getsize(path)\n",
    "os.path.isdir(path)\n",
    "os.listdir(path)\n",
    "os.path.join(path, filename)\n",
    "\n",
    "\"\"\"\n",
    "def find(path, filename):\n",
    "    if os.path.isdir(path):\n",
    "        for obj in os.listdir(path):\n",
    "            if os.path.isdir(os.path.join(path, obj)):\n",
    "                find(os.path.join(path, obj), filename)\n",
    "            elif obj == filename:\n",
    "                print(os.path.join(path, obj))"
   ]
  },
  {
   "cell_type": "code",
   "execution_count": null,
   "metadata": {},
   "outputs": [],
   "source": [
    "#---P4-24---Write a program for solving summation puzzles by enumerating and testing all possible conﬁgurations. Using your program, \n",
    "#solve the three puzzles given in Section 4.4.3\n",
    "\n",
    "\"\"\"The ones we want to ultimately solve are:\n",
    "pot + pan = bib\n",
    "dog + cat = pig\n",
    "boy+ girl = baby\n",
    "\"\"\"\n",
    "\n",
    "class SummationSolver():\n",
    "    def __init__(self, a, b, c):\n",
    "        self._a = a\n",
    "        self._b = b\n",
    "        self._c = c\n",
    "        self._max_len = len(c) #c cannot be shorter than a or b under the rules\n",
    "        self._count = 0\n",
    "        \n",
    "    def _t2i(self, text, lookup): #text to int\n",
    "        total = 0\n",
    "        length = len(text)\n",
    "        for i in range(length):\n",
    "            total += int(lookup[text[i]])*10**(length-i-1)\n",
    "            \n",
    "        return total\n",
    "\n",
    "\n",
    "    def summation_check(self, a, b, c, U):\n",
    "        \"\"\"\n",
    "        a + b = c using the keys, value pairs in U\n",
    "        \"\"\"\n",
    "        if self._t2i(a, U) + self._t2i(b, U) == self._t2i(c, U):\n",
    "            self._count += 1\n",
    "            print(f'One solution is: {self._t2i(a, U)} + {self._t2i(b, U)} = {self._t2i(c, U)}.  Check:{self._t2i(a, U) + self._t2i(b, U)}')\n",
    "            print('Dictionary is :', U)\n",
    "            print('\\n')\n",
    "            return True\n",
    "        else:\n",
    "            return False\n",
    "        \n",
    "    \n",
    "    def _solver_r(self, a, b, c, S, index, U, nums):\n",
    "        if index >= len(S):  #Note, this means we are past the final index\n",
    "            #print(U)\n",
    "            return self.summation_check(a, b, c, U)\n",
    "        elif S[index] in U:  #If the next letter in the sequence is already in the dictionary, skip it\n",
    "            return self._solver_r(a,b,c,S,index+1, U, nums) \n",
    "        else:\n",
    "            for number in nums.copy():\n",
    "                U[S[index]] = number\n",
    "                nums.remove(number)\n",
    "                ans = self._solver_r(a,b,c,S, index+1, U, nums)\n",
    "                nums.add(number)\n",
    "                del U[S[index]]\n",
    "                \n",
    "        \n",
    "    \n",
    "    def solve(self):\n",
    "        U = {}\n",
    "        nums = set(range(10))\n",
    "        S = list(self._a) + list(self._b) + list(self._c)\n",
    "        self._count = 0\n",
    "        \n",
    "        self._solver_r(self._a, self._b, self._c, S, 0, U, nums)\n",
    "        \n",
    "        if self._count == 0:\n",
    "            print ('Sorry, no solution found! :(')\n",
    "            \n",
    "        else:\n",
    "            print(f'There are a total of {self._count} solutions')\n",
    "            \n"
   ]
  },
  {
   "cell_type": "code",
   "execution_count": 25,
   "metadata": {},
   "outputs": [
    {
     "name": "stdout",
     "output_type": "stream",
     "text": [
      "-\n",
      "--\n",
      "-\n",
      "---\n",
      "-\n",
      "--\n",
      "-\n",
      "----\n",
      "-\n",
      "--\n",
      "-\n",
      "---\n",
      "-\n",
      "--\n",
      "-\n",
      "----\n",
      "-\n",
      "--\n",
      "-\n",
      "---\n",
      "-\n",
      "--\n",
      "-\n",
      "----\n",
      "-\n",
      "--\n",
      "-\n",
      "---\n",
      "-\n",
      "--\n",
      "-\n",
      "----\n",
      "-\n",
      "--\n",
      "-\n",
      "---\n",
      "-\n",
      "--\n",
      "-\n",
      "----\n",
      "-\n",
      "--\n",
      "-\n"
     ]
    }
   ],
   "source": [
    "#---P4-25---Provide a nonrecursive implementation of the draw interval function for the English ruler project of Section 4.1.2. \n",
    "#There should be precisely 2 c − 1 lines of output if c represents the length of the center tick. If incrementing a counter from 0 to 2 c − 2, \n",
    "# the number of dashes for each tick line should be exactly one more than the number of consecutive 1’s at the end of the binary representation of the counter.\n",
    "\n",
    "def english_ruler(n = 3, repeats = 10):\n",
    "    limit = repeats*(2**n -2)\n",
    "    counter = 0\n",
    "    while counter<=limit:\n",
    "        dashes = 1\n",
    "        sub_counter = counter \n",
    "        while sub_counter & 1:\n",
    "            dashes += 1\n",
    "            sub_counter = sub_counter >> 1\n",
    "        dashes = min (dashes, n)\n",
    "        print('-'*dashes)\n",
    "        counter += 1\n",
    "        \n",
    "english_ruler(4, 3)"
   ]
  },
  {
   "cell_type": "code",
   "execution_count": 26,
   "metadata": {},
   "outputs": [],
   "source": [
    "#---P4-26---: already solved"
   ]
  },
  {
   "cell_type": "code",
   "execution_count": 28,
   "metadata": {},
   "outputs": [],
   "source": [
    "#---P4-27---Python’s os module provides a function with signature walk(path) that is a generator yielding the tuple (dirpath, dirnames, ﬁlenames) for each\n",
    "#subdirectory of the directory identiﬁed by string path, such that string dirpath is the full path to the subdirectory, dirnames is a list of the names\n",
    "#of the subdirectories within dirpath, and ﬁlenames is a list of the names of non-directory entries of dirpath. For example, when visiting the cs016\n",
    "#subdirectory of the ﬁle system shown in Figure 4.6, the walk would yield ( /user/rt/courses/cs016 , [ homeworks , programs ], [ grades ]) .\n",
    "#Give your own implementation of such a walk function.\n",
    "\n",
    "import os\n",
    "\n",
    "def our_walk(path):\n",
    "    folders = []\n",
    "    files = []\n",
    "    \n",
    "    for obj in os.listdir(path):\n",
    "        new_path = os.path.join(path, obj)\n",
    "        if os.path.isdir(new_path):\n",
    "            folders.append(obj)\n",
    "            yield from our_walk (new_path)  #Note the use of yield from\n",
    "        elif os.path.isfile(new_path):\n",
    "            files.append(obj)\n",
    "        else:\n",
    "            print('Unknown object:', obj)\n",
    "    \n",
    "    yield(path, folders, files)"
   ]
  },
  {
   "cell_type": "code",
   "execution_count": null,
   "metadata": {},
   "outputs": [],
   "source": []
  }
 ],
 "metadata": {
  "kernelspec": {
   "display_name": "Python 3",
   "language": "python",
   "name": "python3"
  },
  "language_info": {
   "codemirror_mode": {
    "name": "ipython",
    "version": 3
   },
   "file_extension": ".py",
   "mimetype": "text/x-python",
   "name": "python",
   "nbconvert_exporter": "python",
   "pygments_lexer": "ipython3",
   "version": "3.8.5"
  }
 },
 "nbformat": 4,
 "nbformat_minor": 4
}
