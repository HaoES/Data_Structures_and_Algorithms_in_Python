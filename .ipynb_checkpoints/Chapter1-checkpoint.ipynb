{
 "cells": [
  {
   "cell_type": "markdown",
   "metadata": {},
   "source": [
    "## Reinforcement"
   ]
  },
  {
   "cell_type": "markdown",
   "metadata": {},
   "source": [
    "**R-1.1.** Write a short Python function, is_multiple(n, m), that takes two integer values and returns True if n is a multiple of m, that is, n = mi for some integer i, and False otherwise."
   ]
  },
  {
   "cell_type": "code",
   "execution_count": 1,
   "metadata": {},
   "outputs": [
    {
     "name": "stdout",
     "output_type": "stream",
     "text": [
      "False\n",
      "True\n",
      "False\n"
     ]
    }
   ],
   "source": [
    "def is_multiple(n,m):\n",
    "    if m == 0:\n",
    "        return False\n",
    "    else:\n",
    "        return n % m == 0\n",
    "\n",
    "print(is_multiple(2,10))\n",
    "print(is_multiple(10,2))\n",
    "print(is_multiple(4,3))"
   ]
  },
  {
   "cell_type": "markdown",
   "metadata": {},
   "source": [
    "**R-1.2** Write a short Python function, is_even(k), that takes an integer value and returns True if k is even, and False otherwise. However, your function cannot use the multiplication, modulo, or division operators."
   ]
  },
  {
   "cell_type": "code",
   "execution_count": 2,
   "metadata": {},
   "outputs": [
    {
     "name": "stdout",
     "output_type": "stream",
     "text": [
      "True\n",
      "False\n"
     ]
    }
   ],
   "source": [
    "def is_even(k):\n",
    "    return k&1 == 0\n",
    "print(is_even(30))\n",
    "print(is_even(3))"
   ]
  },
  {
   "cell_type": "markdown",
   "metadata": {},
   "source": [
    "**R-1.3** \n",
    "Write a short Python function, minmax(data), that takes a sequence of one or more numbers, and returns the smallest and largest numbers, in the form of a tuple of length two. Do not use the built-in functions min or max in implementing your solution."
   ]
  },
  {
   "cell_type": "code",
   "execution_count": 3,
   "metadata": {},
   "outputs": [
    {
     "name": "stdout",
     "output_type": "stream",
     "text": [
      "(1, 3)\n"
     ]
    }
   ],
   "source": [
    "def minmax(data):\n",
    "    min = max = data[0]\n",
    "    for val in data:\n",
    "        if val > max:\n",
    "            max = val\n",
    "        if val < min:\n",
    "            min = val\n",
    "    return min,max\n",
    "data = [1,2,3]\n",
    "print(minmax(data))"
   ]
  },
  {
   "cell_type": "markdown",
   "metadata": {},
   "source": [
    "**R-1.4**   \n",
    "Write a short Python function that takes a positive integer n and returns\n",
    "the sum of the squares of all the positive integers smaller than n.  \n",
    "**R-1.5**  \n",
    "Give a single command that computes the sum from Exercise R-1.4, rely-\n",
    "ing on Python’s comprehension syntax and the built-in sum function."
   ]
  },
  {
   "cell_type": "code",
   "execution_count": 4,
   "metadata": {},
   "outputs": [
    {
     "name": "stdout",
     "output_type": "stream",
     "text": [
      "285\n"
     ]
    }
   ],
   "source": [
    "def sumSquare(n):\n",
    "    return sum(x*x for x in range(1,n))\n",
    "\n",
    "print(sumSquare(10))"
   ]
  },
  {
   "cell_type": "markdown",
   "metadata": {},
   "source": [
    "**R-1.6**  \n",
    "Write a short Python function that takes a positive integer n and returns\n",
    "the sum of the squares of all the odd positive integers smaller than n.  \n",
    "**R-1.7**  \n",
    "Give a single command that computes the sum from Exercise R-1.6, rely-\n",
    "ing on Python’s comprehension syntax and the built-in sum function."
   ]
  },
  {
   "cell_type": "code",
   "execution_count": 5,
   "metadata": {},
   "outputs": [
    {
     "name": "stdout",
     "output_type": "stream",
     "text": [
      "165\n"
     ]
    }
   ],
   "source": [
    "def sumSquareOdd(n):\n",
    "    return sum(x*x for x in range(1,n) if x % 2 == 1)\n",
    "print(sumSquareOdd(10))"
   ]
  },
  {
   "cell_type": "markdown",
   "metadata": {},
   "source": [
    "**R-1.8**  \n",
    "Python allows negative integers to be used as indices into a sequence,\n",
    "such as a string. If string s has length n, and expression s[k] is used for in-\n",
    "dex −n ≤ k < 0, what is the equivalent index j ≥ 0 such that s[j] references\n",
    "the same element?"
   ]
  },
  {
   "cell_type": "markdown",
   "metadata": {},
   "source": [
    "Answer: n+k"
   ]
  },
  {
   "cell_type": "markdown",
   "metadata": {},
   "source": [
    "**R-1.9**  \n",
    "What parameters should be sent to the range constructor, to produce a\n",
    "range with values 50, 60, 70, 80?"
   ]
  },
  {
   "cell_type": "code",
   "execution_count": 6,
   "metadata": {},
   "outputs": [
    {
     "data": {
      "text/plain": [
       "[50, 60, 70, 80]"
      ]
     },
     "execution_count": 6,
     "metadata": {},
     "output_type": "execute_result"
    }
   ],
   "source": [
    "list(range(50,90,10))"
   ]
  },
  {
   "cell_type": "markdown",
   "metadata": {},
   "source": [
    "**R-1.10**  \n",
    "What parameters should be sent to the range constructor, to produce a\n",
    "range with values 8, 6, 4, 2, 0, −2, −4, −6, −8?"
   ]
  },
  {
   "cell_type": "code",
   "execution_count": 7,
   "metadata": {},
   "outputs": [
    {
     "data": {
      "text/plain": [
       "[8, 6, 4, 2, 0, -2, -4, -6, -8]"
      ]
     },
     "execution_count": 7,
     "metadata": {},
     "output_type": "execute_result"
    }
   ],
   "source": [
    "list(range(8,-9,-2))"
   ]
  },
  {
   "cell_type": "markdown",
   "metadata": {},
   "source": [
    "**R-1.11**  \n",
    "Demonstrate how to use Python’s list comprehension syntax to produce\n",
    "the list [1, 2, 4, 8, 16, 32, 64, 128, 256]."
   ]
  },
  {
   "cell_type": "code",
   "execution_count": 8,
   "metadata": {},
   "outputs": [
    {
     "name": "stdout",
     "output_type": "stream",
     "text": [
      "[1, 2, 4, 8, 16, 32, 64, 128, 256] [1, 2, 4, 8, 16, 32, 64, 128, 256]\n"
     ]
    }
   ],
   "source": [
    "print ([2**x for x in range (9)], [pow(2, x) for x in range (9)])"
   ]
  },
  {
   "cell_type": "code",
   "execution_count": 9,
   "metadata": {},
   "outputs": [
    {
     "name": "stdout",
     "output_type": "stream",
     "text": [
      "Using ** gives: 1.7563917609986675\n",
      "Using pow gives: 1.8878396860000066\n"
     ]
    }
   ],
   "source": [
    "#Aside... should I use pow(x,y) or x**y\n",
    "import timeit\n",
    "print (f\"Using ** gives: {timeit.timeit('[2**x for x in range (9)]')}\")\n",
    "print (f\"Using pow gives: {timeit.timeit('[pow(2,x) for x in range (9)]')}\")"
   ]
  },
  {
   "cell_type": "markdown",
   "metadata": {},
   "source": [
    "**R-1.12**  \n",
    "Python’s random module includes a function choice(data) that returns a\n",
    "random element from a non-empty sequence. The random module in-\n",
    "cludes a more basic function randrange, with parameterization similar to\n",
    "the built-in range function, that return a random choice from the given\n",
    "range. Using only the randrange function, implement your own version\n",
    "of the choice function."
   ]
  },
  {
   "cell_type": "code",
   "execution_count": 10,
   "metadata": {},
   "outputs": [
    {
     "name": "stdout",
     "output_type": "stream",
     "text": [
      "4\n"
     ]
    }
   ],
   "source": [
    "import random\n",
    "def choice(list):\n",
    "    return list[random.randrange(len(list))]\n",
    "data = [2,3,5,7,8,4,3,6,7,4,5]\n",
    "print(choice(data))"
   ]
  },
  {
   "cell_type": "markdown",
   "metadata": {},
   "source": [
    "## Creativity"
   ]
  },
  {
   "cell_type": "markdown",
   "metadata": {},
   "source": [
    "**C-1.13**  \n",
    "Write a pseudo-code description of a function that reverses a list of n\n",
    "integers, so that the numbers are listed in the opposite order than they\n",
    "were before, and compare this method to an equivalent Python function\n",
    "for doing the same thing."
   ]
  },
  {
   "cell_type": "code",
   "execution_count": 11,
   "metadata": {},
   "outputs": [
    {
     "name": "stdout",
     "output_type": "stream",
     "text": [
      "[5, 4, 7, 6, 3, 4, 8, 7, 5, 3, 2]\n"
     ]
    }
   ],
   "source": [
    "def reverse(data):\n",
    "    return [data[i] for i in range(-1,-len(data) -1,-1)]\n",
    "\n",
    "data = [2,3,5,7,8,4,3,6,7,4,5]\n",
    "print(reverse(data))\n",
    "        "
   ]
  },
  {
   "cell_type": "markdown",
   "metadata": {},
   "source": [
    "**C-1.14**  \n",
    "Write a short Python function that takes a sequence of integer values and\n",
    "determines if there is a distinct pair of numbers in the sequence whose\n",
    "product is odd."
   ]
  },
  {
   "cell_type": "code",
   "execution_count": 12,
   "metadata": {},
   "outputs": [
    {
     "name": "stdout",
     "output_type": "stream",
     "text": [
      "('True', 1, 3)\n"
     ]
    }
   ],
   "source": [
    "def oddPair(data):\n",
    "    first_odd = None\n",
    "    for d in data:\n",
    "        if d % 2 == 1:\n",
    "            if d != first_odd and not first_odd is None: \n",
    "                return('True',first_odd, d)\n",
    "            else: first_odd = d\n",
    "    return \"Not Found\"\n",
    "data = [1,2,3,4,5,6,7,8,9,10]\n",
    "print(oddPair(data))"
   ]
  },
  {
   "cell_type": "markdown",
   "metadata": {},
   "source": [
    "**C-1.15**  \n",
    "Write a Python function that takes a sequence of numbers and determines\n",
    "if all the numbers are different from each other (that is, they are distinct)."
   ]
  },
  {
   "cell_type": "code",
   "execution_count": 13,
   "metadata": {},
   "outputs": [
    {
     "name": "stdout",
     "output_type": "stream",
     "text": [
      "True\n",
      "False\n"
     ]
    }
   ],
   "source": [
    "def isunique(data):\n",
    "    dataset = set(data)\n",
    "    if len(data) != len(dataset):\n",
    "        return False\n",
    "    return True\n",
    "data=[1,2,3,4,5]\n",
    "print(isunique(data))\n",
    "data=[1,1,2,3,4,5]\n",
    "print(isunique(data))"
   ]
  },
  {
   "cell_type": "markdown",
   "metadata": {},
   "source": [
    "**C-1.16**  \n",
    "In our implementation of the scale function (page 25), the body of the loop\n",
    "executes the command data[j] = factor. We have discussed that numeric\n",
    "types are immutable, and that use of the = operator in this context causes\n",
    "the creation of a new instance (not the mutation of an existing instance).\n",
    "How is it still possible, then, that our implementation of scale changes the\n",
    "actual parameter sent by the caller?"
   ]
  },
  {
   "cell_type": "markdown",
   "metadata": {},
   "source": [
    "Answer: Lists are mutable, so when using data[j] = factor, it creates a new numeric immutable and its reference is stored in the list in data[j]"
   ]
  },
  {
   "cell_type": "markdown",
   "metadata": {},
   "source": [
    "**C-1.17**  \n",
    "Had we implemented the scale function (page 25) as follows, does it work\n",
    "properly?  \n",
    "```\n",
    "    def scale(data, factor):  \n",
    "        for val in data:  \n",
    "            val *= factor  \n",
    "```\n",
    "Explain why or why not."
   ]
  },
  {
   "cell_type": "code",
   "execution_count": 14,
   "metadata": {},
   "outputs": [
    {
     "name": "stdout",
     "output_type": "stream",
     "text": [
      "[1, 2, 3, 4, 5]\n",
      "[2, 4, 6, 8, 10]\n"
     ]
    }
   ],
   "source": [
    "# let's try this\n",
    "def scale(data, factor):\n",
    "    for val in data: \n",
    "        val *= factor\n",
    "data = [1,2,3,4,5]\n",
    "scale(data,2)\n",
    "print(data)\n",
    "def truescale(data,factor):\n",
    "    for i in range(len(data)):\n",
    "        data[i] *= factor\n",
    "truescale(data,2)\n",
    "print(data)"
   ]
  },
  {
   "cell_type": "markdown",
   "metadata": {},
   "source": [
    "it does not change the list, val *= factor creates a new instance of val but does not change the reference to the original object in the list.\n",
    "while changing data[i] changes the current reference for the element i."
   ]
  },
  {
   "cell_type": "markdown",
   "metadata": {},
   "source": [
    "**C-1.18**  \n",
    "Demonstrate how to use Python’s list comprehension syntax to produce\n",
    "the list [0, 2, 6, 12, 20, 30, 42, 56, 72, 90]."
   ]
  },
  {
   "cell_type": "code",
   "execution_count": 15,
   "metadata": {},
   "outputs": [
    {
     "name": "stdout",
     "output_type": "stream",
     "text": [
      "[0, 2, 6, 12, 20, 30, 42, 56, 72, 90]\n"
     ]
    }
   ],
   "source": [
    "print([x * (x + 1) for x in range(10)])"
   ]
  },
  {
   "cell_type": "markdown",
   "metadata": {},
   "source": [
    "**C-2.19**  \n",
    "Demonstrate how to use Python’s list comprehension syntax to produce\n",
    "the list [ a , b , c , ..., z ], but without having to type all 26 such\n",
    "characters literally."
   ]
  },
  {
   "cell_type": "code",
   "execution_count": 16,
   "metadata": {},
   "outputs": [
    {
     "name": "stdout",
     "output_type": "stream",
     "text": [
      "['a', 'b', 'c', 'd', 'e', 'f', 'g', 'h', 'i', 'j', 'k', 'l', 'm', 'n', 'o', 'p', 'q', 'r', 's', 't', 'u', 'v', 'w', 'x', 'y', 'z']\n"
     ]
    }
   ],
   "source": [
    "print([chr(x) for x in range(97,123)])"
   ]
  },
  {
   "cell_type": "markdown",
   "metadata": {},
   "source": [
    "**C-1.20**  \n",
    "Python’s random module includes a function shuﬄe(data) that accepts a list of elements and randomly reorders the elements so that each possible order occurs with equal probability. The random module includes a more basic function randint(a, b) that returns a uniformly random integer\n",
    "from a to b (including both endpoints). Using only the randint function, implement your own version of the shuﬄe function."
   ]
  },
  {
   "cell_type": "code",
   "execution_count": 17,
   "metadata": {},
   "outputs": [
    {
     "name": "stdout",
     "output_type": "stream",
     "text": [
      "[2, 5, 1, 4, 3]\n"
     ]
    }
   ],
   "source": [
    "def shuffle(data):\n",
    "    shuffled = [None] * len(data)\n",
    "    for i in range(len(data)):\n",
    "        index = random.randint(0,len(data) - 1)\n",
    "        while shuffled[index] != None:\n",
    "            index = random.randint(0,len(data) - 1)\n",
    "        shuffled[index] = data[i] \n",
    "    return shuffled\n",
    "\n",
    "data = [1,2,3,4,5]\n",
    "print(shuffle(data))\n",
    "        "
   ]
  },
  {
   "cell_type": "markdown",
   "metadata": {},
   "source": [
    "**C-1.21**  \n",
    "Write a Python program that repeatedly reads lines from standard input until an EOFError is raised, and then outputs those lines in reverse order (a user can indicate end of input by typing ctrl-D)."
   ]
  },
  {
   "cell_type": "code",
   "execution_count": 18,
   "metadata": {},
   "outputs": [],
   "source": [
    "def reading():\n",
    "    lines = []\n",
    "    while True:\n",
    "        try:\n",
    "            line = input()\n",
    "            lines.append(line)\n",
    "        except EOFError:\n",
    "            for line in reversed(lines):\n",
    "                print(line)\n",
    "            break"
   ]
  },
  {
   "cell_type": "markdown",
   "metadata": {},
   "source": [
    "**C-1.22**  \n",
    "Write a short Python program that takes two arrays a and b of length n\n",
    "storing int values, and returns the dot product of a and b. That is, it returns\n",
    "an array c of length n such that c[i] = a[i] · b[i], for i = 0, . . . , n − 1."
   ]
  },
  {
   "cell_type": "code",
   "execution_count": 19,
   "metadata": {},
   "outputs": [
    {
     "name": "stdout",
     "output_type": "stream",
     "text": [
      "[2, 4, 6, 8]\n"
     ]
    }
   ],
   "source": [
    "def dot(a,b):\n",
    "    c = []\n",
    "    assert len(a) == len(b), 'size must match'\n",
    "    for a,b in zip(a,b):\n",
    "        c.append(a*b)\n",
    "    return c\n",
    "a = [1,2,3,4]\n",
    "b = [2,2,2,2]\n",
    "print(dot(a,b))"
   ]
  },
  {
   "cell_type": "markdown",
   "metadata": {},
   "source": [
    "**C-1.23**  \n",
    "Give an example of a Python code fragment that attempts to write an element to a list based on an index that may be out of bounds. If that index is out of bounds, the program should catch the exception that results, and print the following error message:\n",
    "“Don’t try buffer overflow attacks in Python!”"
   ]
  },
  {
   "cell_type": "code",
   "execution_count": 20,
   "metadata": {},
   "outputs": [
    {
     "name": "stdout",
     "output_type": "stream",
     "text": [
      "[1, 2, 3, 4]\n",
      "[1, 1, 3, 4]\n",
      "Don't try buffer overflow attacks in Python!\n",
      "[1, 1, 3, 4]\n"
     ]
    }
   ],
   "source": [
    "def overflow(data,index,element):\n",
    "    try:\n",
    "        data[index] = element\n",
    "    except IndexError:\n",
    "        print(\"Don't try buffer overflow attacks in Python!\")\n",
    "data = [1,2,3,4]\n",
    "print(data)\n",
    "overflow(data,1,1)\n",
    "print(data)\n",
    "overflow(data,6,1)\n",
    "print(data)"
   ]
  },
  {
   "cell_type": "markdown",
   "metadata": {},
   "source": [
    "**C-1.24**  \n",
    "Write a short Python function that counts the number of vowels in a given\n",
    "character string."
   ]
  },
  {
   "cell_type": "code",
   "execution_count": 21,
   "metadata": {},
   "outputs": [
    {
     "name": "stdout",
     "output_type": "stream",
     "text": [
      "2\n",
      "0\n"
     ]
    }
   ],
   "source": [
    "def vowelCount(s):\n",
    "    count = 0\n",
    "    s.lower()\n",
    "    vowels = ['a','e','i','o','u']\n",
    "    for letter in s:\n",
    "        if letter in vowels:\n",
    "            count += 1\n",
    "    return count\n",
    "s = 'Hello'\n",
    "print(vowelCount('Hello'))\n",
    "print(vowelCount('Wxsf'))"
   ]
  },
  {
   "cell_type": "markdown",
   "metadata": {},
   "source": [
    "**C-1.25**  \n",
    "Write a short Python function that takes a string s, representing a sentence, and returns a copy of the string with all punctuation removed. For example, if given the string \"Let's try, Mike.\", this function would return \"Lets try Mike\"."
   ]
  },
  {
   "cell_type": "code",
   "execution_count": 22,
   "metadata": {},
   "outputs": [
    {
     "name": "stdout",
     "output_type": "stream",
     "text": [
      "Lets Try Mike\n"
     ]
    }
   ],
   "source": [
    "from string import ascii_letters\n",
    "def removePun(s):\n",
    "    for c in s:\n",
    "        if c not in ascii_letters and c != ' ':\n",
    "            s = s.replace(c,'')\n",
    "    return s\n",
    "print(removePun(\"Let's Try, Mike.\"))"
   ]
  },
  {
   "cell_type": "markdown",
   "metadata": {},
   "source": [
    "**C-1.26**  \n",
    "Write a short program that takes as input three integers, a, b, and c, from\n",
    "the console and determines if they can be used in a correct arithmetic\n",
    "formula (in the given order), like “a + b = c,” “a = b − c,” or “a ∗ b = c.”"
   ]
  },
  {
   "cell_type": "code",
   "execution_count": 23,
   "metadata": {},
   "outputs": [],
   "source": [
    "import itertools\n",
    "\n",
    "def three():\n",
    "    \n",
    "    a = input(\"give int a:\")\n",
    "    b = input(\"give int b:\")\n",
    "    c = input(\"give int c:\")\n",
    "    perms = list(itertools.permutations([a,b,c]))\n",
    "    operators = '+-*/'\n",
    "    results = []\n",
    "\n",
    "    for permutation in perms:\n",
    "        for op in operators:\n",
    "            if int(permutation[0]) == eval(f'{permutation[1]} {op} {permutation[2]}'):\n",
    "                results.append(f'{permutation[0]} = {permutation[1]} {op} {permutation[2]}')\n",
    "    if results:\n",
    "        return results\n",
    "    else:\n",
    "        return \"No Match\""
   ]
  },
  {
   "cell_type": "markdown",
   "metadata": {},
   "source": [
    "**C-1.27**  \n",
    "In Section 1.8, we provided three different implementations of a generator\n",
    "that computes factors of a given integer. The third of those implementations, from page 41, was the most efﬁcient, but we noted that it did not\n",
    "yield the factors in increasing order. Modify the generator so that it reports\n",
    "factors in increasing order, while maintaining its general performance ad-\n",
    "vantages."
   ]
  },
  {
   "cell_type": "code",
   "execution_count": 24,
   "metadata": {},
   "outputs": [
    {
     "name": "stdout",
     "output_type": "stream",
     "text": [
      "1\n",
      "2\n",
      "4\n",
      "5\n",
      "10\n",
      "20\n",
      "25\n",
      "50\n",
      "100\n"
     ]
    }
   ],
   "source": [
    "def factors(n):\n",
    "    k=1\n",
    "    mem = []\n",
    "    while k * k < n:\n",
    "        if n % k == 0:\n",
    "            mem.append(n // k)\n",
    "            yield k\n",
    "        k += 1\n",
    "    if k * k == n:\n",
    "        yield k\n",
    "    for i in reverse(mem):\n",
    "        yield i\n",
    "            \n",
    "for i in factors(100):\n",
    "    print(i)"
   ]
  },
  {
   "cell_type": "markdown",
   "metadata": {},
   "source": [
    "**C-1.28**  \n",
    "The p-norm of a vector $v = (v_{1},v_{2},\\ldots,v_{n})$  in n-dimensional space is deﬁned as  \n",
    "$||v|| = \\sqrt[p]{v_{1}^{p} + v_{2}^{p} + \\ldots + v_{n}^{p}}$\n",
    "\n",
    "For the special case of $p = 2$, this results in the traditional Euclidean\n",
    "norm, which represents the length of the vector. For example, the Euclidean norm of a two-dimensional\n",
    "with coordinates (4, 3) has a Euclidean norm of $\\sqrt{4^2 + 3^2} = \\sqrt{16+9} = \\sqrt{25} = 5$.  \n",
    "Give an implementation of a function named **norm** such that norm(v, p) returns the p-norm value of v and norm(v) returns the Euclidean norm of v. You may assume\n",
    "that v is a list of numbers."
   ]
  },
  {
   "cell_type": "code",
   "execution_count": 25,
   "metadata": {},
   "outputs": [
    {
     "name": "stdout",
     "output_type": "stream",
     "text": [
      "5.0\n"
     ]
    }
   ],
   "source": [
    "def norm(v, p=2):\n",
    "    return sum(i**p for i in v)**(1/p)\n",
    "\n",
    "v = [4,3]\n",
    "print(norm(v))"
   ]
  },
  {
   "cell_type": "markdown",
   "metadata": {},
   "source": [
    "## Projects"
   ]
  },
  {
   "cell_type": "markdown",
   "metadata": {},
   "source": [
    "**P-1.29**  \n",
    "Write a Python program that outputs all possible strings formed by using\n",
    "the characters c , a , t , d , o , and g exactly once."
   ]
  },
  {
   "cell_type": "code",
   "execution_count": 26,
   "metadata": {},
   "outputs": [],
   "source": [
    "import itertools\n",
    "def generator(c):\n",
    "    perms = list(itertools.permutations(c))\n",
    "    for i in range(len(perms)):\n",
    "        perms[i] = ''.join(perms[i])\n",
    "    return perms"
   ]
  },
  {
   "cell_type": "markdown",
   "metadata": {},
   "source": [
    "**P-1.30**  \n",
    "Write a Python program that can take a positive integer greater than 2 as\n",
    "input and write out the number of times one must repeatedly divide this\n",
    "number by 2 before getting a value less than 2."
   ]
  },
  {
   "cell_type": "code",
   "execution_count": 29,
   "metadata": {},
   "outputs": [
    {
     "name": "stdin",
     "output_type": "stream",
     "text": [
      "insert a number greater than 2 8\n"
     ]
    },
    {
     "data": {
      "text/plain": [
       "3"
      ]
     },
     "execution_count": 29,
     "metadata": {},
     "output_type": "execute_result"
    }
   ],
   "source": [
    "import math\n",
    "def division():\n",
    "    a = int(input(\"insert a number greater than 2\"))\n",
    "    assert a > 2, \"a must be greater than 2\"\n",
    "    if a > 2:\n",
    "        return int(math.log(a,2))\n",
    "division()"
   ]
  },
  {
   "cell_type": "markdown",
   "metadata": {},
   "source": [
    "**P-1.31**  \n",
    "Write a Python program that can “make change.” Your program should\n",
    "take two numbers as input, one that is a monetary amount charged and the\n",
    "other that is a monetary amount given. It should then return the number\n",
    "of each kind of bill and coin to give back as change for the difference\n",
    "between the amount given and the amount charged. The values assigned\n",
    "to the bills and coins can be based on the monetary system of any current\n",
    "or former government. Try to design your program so that it returns as\n",
    "few bills and coins as possible."
   ]
  },
  {
   "cell_type": "code",
   "execution_count": 30,
   "metadata": {},
   "outputs": [
    {
     "name": "stdout",
     "output_type": "stream",
     "text": [
      "{200: 0, 100: 1, 50: 1, 20: 0, 10: 0, 5: 0, 1: 1, 0.5: 0.0, 0.2: 0.0, 0.1: 0.0, 0.05: 0.0}\n"
     ]
    }
   ],
   "source": [
    "def change(price,paid):\n",
    "    cash = [200,100,50,20,10,5,1,0.5,0.2,0.1,0.05]\n",
    "    assert paid >= price, \"You didn't pay enough\"\n",
    "    remaining = paid - price\n",
    "    change = {}\n",
    "    for c in cash:\n",
    "        change[c] = remaining // c\n",
    "        remaining -= (remaining // c) * c\n",
    "    return change\n",
    "print(change(299,450))"
   ]
  },
  {
   "cell_type": "markdown",
   "metadata": {},
   "source": [
    "**P-1.33 P-1.32**  \n",
    "Write a Python program that simulates a handheld calculator. Your program should process input from the Python console representing buttons\n",
    "that are “pushed,” and then output the contents of the screen after each op-\n",
    "eration is performed. Minimally, your calculator should be able to process\n",
    "the basic arithmetic operations and a reset/clear operation."
   ]
  },
  {
   "cell_type": "code",
   "execution_count": 34,
   "metadata": {},
   "outputs": [],
   "source": [
    "def calculator():\n",
    "    print(\"\"\" \n",
    "    Welcome to the calculator program!\n",
    "    type your operations and press Enter to see the result\n",
    "    to reset type \"reset\" or \"clear\"\n",
    "    to quit type \"exit\"\n",
    "    \"\"\")\n",
    "    answer = 0\n",
    "    while True:\n",
    "        inp = input('> ')\n",
    "        if inp == 'exit':\n",
    "            break\n",
    "        elif inp == 'reset' or inp == 'clear':\n",
    "            answer = 0\n",
    "        else:\n",
    "            answer += eval(inp)\n",
    "        print(answer)"
   ]
  },
  {
   "cell_type": "markdown",
   "metadata": {},
   "source": [
    "**P-1.34**  \n",
    "A common punishment for school children is to write out a sentence multiple times. Write a Python stand-alone program that will write out the following sentence one hundred times: “I will never spam my friends again.” Your program should number each of the sentences and it should\n",
    "make eight different random-looking typos."
   ]
  },
  {
   "cell_type": "code",
   "execution_count": 48,
   "metadata": {},
   "outputs": [
    {
     "name": "stdout",
     "output_type": "stream",
     "text": [
      "1 - I will never spam my friends again.\n",
      "2 - I will never spam my friends again.\n",
      "3 - I will never spam my friends again.\n",
      "4 - I will never spam my frifnds again. <-- this is the error\n",
      "5 - I will never spam my friends again.\n",
      "6 - I will never spam my friends again.\n",
      "7 - I will never spam my friends again.\n",
      "8 - I will never spam my friends again.\n",
      "9 - I will!never spam my friends again. <-- this is the error\n",
      "10 - I will never spam my friends again.\n"
     ]
    }
   ],
   "source": [
    "import random\n",
    "def batsu(n = 100, e = 8, sentence = \"I will never spam my friends again.\"):\n",
    "    err_index = random.sample(range(1,n+1),e)\n",
    "    for i in range(n):\n",
    "        s = list(sentence)\n",
    "        if i in err_index:\n",
    "            m = random.randrange(len(sentence))\n",
    "            s[m] = chr(ord(s[m])+1)\n",
    "            mistake = ''.join(s)\n",
    "            print(f'{i+1} - {mistake} <-- this is the error')\n",
    "        else:\n",
    "            correct = ''.join(s)\n",
    "            print(f'{i+1} - {correct}')\n",
    "batsu(10,2)"
   ]
  },
  {
   "cell_type": "markdown",
   "metadata": {},
   "source": [
    "**P-1.35**  \n",
    "The birthday paradox says that the probability that two people in a room\n",
    "will have the same birthday is more than half, provided n, the number of\n",
    "people in the room, is more than 23. This property is not really a paradox,\n",
    "but many people ﬁnd it surprising. Design a Python program that can test\n",
    "this paradox by a series of experiments on randomly generated birthdays,\n",
    "which test this paradox for n = 5, 10, 15, 20, . . . , 100."
   ]
  },
  {
   "cell_type": "code",
   "execution_count": 57,
   "metadata": {},
   "outputs": [
    {
     "name": "stdout",
     "output_type": "stream",
     "text": [
      "the probability of same birthdays for 5 people is approximately: 0.02\n",
      "the probability of same birthdays for 10 people is approximately: 0.12\n",
      "the probability of same birthdays for 15 people is approximately: 0.2\n",
      "the probability of same birthdays for 20 people is approximately: 0.41\n",
      "the probability of same birthdays for 25 people is approximately: 0.57\n",
      "the probability of same birthdays for 30 people is approximately: 0.67\n",
      "the probability of same birthdays for 35 people is approximately: 0.82\n",
      "the probability of same birthdays for 40 people is approximately: 0.9\n",
      "the probability of same birthdays for 45 people is approximately: 0.93\n",
      "the probability of same birthdays for 50 people is approximately: 0.99\n",
      "the probability of same birthdays for 55 people is approximately: 0.98\n",
      "the probability of same birthdays for 60 people is approximately: 0.99\n",
      "the probability of same birthdays for 65 people is approximately: 1.0\n",
      "the probability of same birthdays for 70 people is approximately: 1.0\n",
      "the probability of same birthdays for 75 people is approximately: 1.0\n",
      "the probability of same birthdays for 80 people is approximately: 1.0\n",
      "the probability of same birthdays for 85 people is approximately: 1.0\n",
      "the probability of same birthdays for 90 people is approximately: 1.0\n",
      "the probability of same birthdays for 95 people is approximately: 1.0\n",
      "the probability of same birthdays for 100 people is approximately: 1.0\n"
     ]
    }
   ],
   "source": [
    "import random\n",
    "def similar(n):\n",
    "    birthdays = [random.randrange(1,366) for _ in range(n)] \n",
    "    if len(set(birthdays)) < n:\n",
    "        return True\n",
    "    else: return False\n",
    "\n",
    "def probabilities():\n",
    "    for n in range(5,101,5):\n",
    "        trials = []\n",
    "        for i in range(100):\n",
    "            trials.append(similar(n))\n",
    "        print(f'the probability of same birthdays for {n} people is approximately: {sum(trials)/100.0}')\n",
    "probabilities()"
   ]
  },
  {
   "cell_type": "markdown",
   "metadata": {},
   "source": [
    "**P-1.36**  \n",
    "Write a Python program that inputs a list of words, separated by whitespace, and outputs how many times each word appears in the list. You\n",
    "need not worry about efﬁciency at this point, however, as this topic is\n",
    "something that will be addressed later in this book."
   ]
  },
  {
   "cell_type": "code",
   "execution_count": 59,
   "metadata": {},
   "outputs": [],
   "source": [
    "def counter(words):\n",
    "    words = words.split()\n",
    "    count = {}\n",
    "    for word in set(words):\n",
    "        count[word] = words.count(word)\n",
    "    return count"
   ]
  }
 ],
 "metadata": {
  "kernelspec": {
   "display_name": "Python 3",
   "language": "python",
   "name": "python3"
  },
  "language_info": {
   "codemirror_mode": {
    "name": "ipython",
    "version": 3
   },
   "file_extension": ".py",
   "mimetype": "text/x-python",
   "name": "python",
   "nbconvert_exporter": "python",
   "pygments_lexer": "ipython3",
   "version": "3.8.5"
  }
 },
 "nbformat": 4,
 "nbformat_minor": 4
}
