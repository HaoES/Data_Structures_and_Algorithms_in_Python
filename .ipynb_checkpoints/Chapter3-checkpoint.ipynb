{
 "cells": [
  {
   "cell_type": "markdown",
   "metadata": {},
   "source": [
    "## Chapter 3"
   ]
  },
  {
   "cell_type": "markdown",
   "metadata": {},
   "source": [
    "Reinforcement"
   ]
  },
  {
   "cell_type": "code",
   "execution_count": 1,
   "metadata": {},
   "outputs": [
    {
     "data": {
      "image/png": "[encoded data removed]",
      "text/plain": [
       "<Figure size 432x288 with 1 Axes>"
      ]
     },
     "metadata": {
      "needs_background": "light"
     },
     "output_type": "display_data"
    }
   ],
   "source": [
    "# R 3.1\n",
    "import matplotlib.pyplot as plt\n",
    "import numpy as np\n",
    "import math\n",
    "\n",
    "x = [10**i for i in range(10)]\n",
    "\n",
    "funcs = [lambda x: 8*x,\n",
    "         lambda x: 4*x*math.log(x),\n",
    "         lambda x: 2*x**2,\n",
    "         lambda x: x**3,\n",
    "        #lambda x: 2**x it takes so much time to compute\n",
    "        ]\n",
    "\n",
    "ys = []\n",
    "\n",
    "for func in funcs:\n",
    "    ys.append(list(map(func,x)))\n",
    "\n",
    "for y in ys:\n",
    "    plt.plot(x,y)\n",
    "plt.yscale('log')\n",
    "plt.xscale('log')"
   ]
  },
  {
   "cell_type": "markdown",
   "metadata": {},
   "source": [
    "** R 3.2 **\n",
    "\n",
    "A is better than B for n greater than n when 8nlogn = 2n^2, or 4logn = n, which is n = 1.5 approximately."
   ]
  },
  {
   "cell_type": "markdown",
   "metadata": {},
   "source": [
    "**R 3.3**  \n",
    "40n^2 = 2n^3 when n = 20, which means n0 = 20\n"
   ]
  },
  {
   "cell_type": "markdown",
   "metadata": {},
   "source": [
    "**R3-4**  \n",
    "A constant function is plotted the same on each scale"
   ]
  },
  {
   "cell_type": "markdown",
   "metadata": {},
   "source": [
    "**R3-5**  \n",
    "\n",
    "if y = n^c, then log(y) = log(n^c) = c log(n).\n",
    "\n",
    "This is of the form y=mx for a log scale"
   ]
  },
  {
   "cell_type": "markdown",
   "metadata": {},
   "source": [
    "**R3-6**  \n",
    "The sum is twice the sum of all the numbers from 0 to n, which is 2*(n+1)(n)/2 = (n+1)(n)"
   ]
  },
  {
   "cell_type": "markdown",
   "metadata": {},
   "source": [
    "**R3-7**  \n",
    "If the worst case runtime is O(f(n)), then there is a constant c such that cf(n)>worst_case for n>n0\n",
    "Since the worst case is always >= to all other cases, (worst case runtime >= g(n)), then cf(n)>=worst_case>= all other cases A\n",
    "Since a>=b and b>=c, then a>=c, which means that c (the algorithm A) is O(f(n))"
   ]
  },
  {
   "cell_type": "markdown",
   "metadata": {},
   "source": [
    "**R3-8**  \n",
    "In increasing order or asymptotic growth rate...\n",
    "constant (2^10)\n",
    "- n (2^log(n) = n)\n",
    "- n (3n + 100logn) (<- this grows at a faster rate than the one before because 3>1)\n",
    "- n (4n) <- 4>3 and the 100logn term will eventually become relatively trivial at high n\n",
    "- nlogn (nlogn)\n",
    "- nlogn (4nlogn + 2n) <- Grows quicker because of the constant\n",
    "- n^2 (n^2 + 10)\n",
    "- n^3 (n^3)\n",
    "- 2^n (2^n)"
   ]
  },
  {
   "cell_type": "markdown",
   "metadata": {},
   "source": [
    "**R3-9**  \n",
    "if d(n) is O(f(n)), there is a constant such that d(n) <= cf(n) for every n>n0.\n",
    "if we multiply d(n) by a, we get (ad(n)) <= acf(n) = c'f(n)\n",
    "Essentially, the new constant will be c_old * a, which still maintains the original condition of O notation, which \n",
    "will be true when n>a*n0"
   ]
  },
  {
   "cell_type": "markdown",
   "metadata": {},
   "source": [
    "**R-3-10**  \n",
    "\n",
    "If d(n) is O(f(n)) and e(n) is O(g(n)), then d(n)<= cf(n) for n_f>n_f0 and e(n)<= dg(n) for n_e>n_e0\n",
    "as a result, d(n)e(n) <= (cf(n))*(dg(n)) and n_f*n_e > n_f0*n_e0\n",
    "which means that there is a new n' = n_f*n_e and and n0' = n_f0*n_e0, and a c' = c*d such that \n",
    "d(n)e(n) <= c'(f(n)g(n)) for n'>n0', which means that d(n)e(n) is O(f(n)g(n))"
   ]
  },
  {
   "cell_type": "markdown",
   "metadata": {},
   "source": [
    "**R3-11**  \n",
    "Like before, if d(n) is O(f(n)) and e(n) is O(g(n)), then d(n)<= cf(n) for n_f>n_f0 and e(n)<= dg(n) for n_e>n_e0\n",
    "That means that d(n) + e(n) <= (cf(n)) + (dg(n)) and n > n_f0+n_e0\n",
    "which means that there is a new n' = n_f+n_e and and n0' = n_f0+n_e0, such that:\n",
    "d(n) + e(n) <= cf(n) + dg(n) for n>n0'; however, this still does not satisfy O notation.  \n",
    "We can absorb c and d into their functions such that  d(n) + e(n) <= f(cn) + g(dn) \n",
    "To absorb c, we note that n'' = cn', so n' = n''/c, which means that n''/c >= n0''/c\n",
    "similarly for d, n''/cd >= n0''/cd\n",
    "Therefore there are new values of n0 such that \n",
    "d(n) + e(n) <= (f(n)+g(n)) for n>= n0'', which satisfies O(f(n) + g(n)) conditions"
   ]
  },
  {
   "cell_type": "markdown",
   "metadata": {},
   "source": [
    "**R3-12**  \n",
    "The key point here is that just because something is O(n) doesn't mean that is has to be that function\n",
    "For example, f(n) = 5 is O(n) is mathematically true, although it is poor form to say so\n",
    "\n",
    "Therefore, if we have d(n) = n and e(n) = n with f(n) = n and g(n) = n, then we satisfy\n",
    "d(n) <= C(f(n)) for n>=0, and e(n) <= C2(g(n)) for n>=0\n",
    "\n",
    "f(n)-g(n) = 0 and d(n) -e(n) = n\n",
    "\n",
    "There is no value for n>0 such that 0>=n, which means that d(n) -e(n) is not O(f(n)-g(n))\n",
    "\n",
    "Side Note: The wikipedia definition of Big-O is |f(n)| <= Mg(x) for all x>x0,\n",
    "which provides more opportunities to disprove this property"
   ]
  },
  {
   "cell_type": "markdown",
   "metadata": {},
   "source": [
    "**R3-13**  \n",
    "\n",
    "If d(n) is O(f(n)) and f(n) is O(g(n)), then d(n)<= cf(n) for n_f>n_f0 and f(n)<= dg(n) for n_g>n_g0\n",
    "\n",
    "\n",
    "If that is true, then d(n)<=cf(n)<=c(d(g(n))) = cd*g(n) = c'g(n) by substitution, which is true for\n",
    "n_f*n_g>n_f0*n_g0, or n>n0'\n",
    "\n",
    "Together, these satisfy the conditions of d(n) is O(g(n))\n"
   ]
  },
  {
   "cell_type": "markdown",
   "metadata": {},
   "source": [
    "**R3-14**  \n",
    "\n",
    "By definition, if y is the output of max{f(n), g(n)}, then by definition\n",
    "y>=f(n) and y>=g(n), which means that 2y>=f(n) + g(n)\n",
    "That means that f(n) + g(n) <= 2(max{f(n), g(n)}) for every n>n0=0,\n",
    "which satisfies our requirements for O"
   ]
  },
  {
   "cell_type": "markdown",
   "metadata": {},
   "source": [
    "**R3-15**  \n",
    "\n",
    "for f(n) to be O(g(n)), f(n)<=Cg(n) for all n>n0\n",
    "\n",
    "for g(n) to be T(f(n)), g(n)>= Cf(b) for all n>n0\n",
    "\n",
    "\n",
    "if g(n) is not T(f(n)), then there is a value where g(n)<=cf(b) for n>n0\n",
    "\n",
    "if that is true, then g(n)<=cf(n) at the critical n, then f(n)<=(1/c)f(n) for some n>n0\n",
    "(note this is true because c>0)\n",
    "which violates the rules for f(n) is O(g(n)).\n",
    "\n",
    "Therefore, the orginal statement holds by contraposition\n",
    "\n",
    "\n",
    "\n"
   ]
  },
  {
   "cell_type": "markdown",
   "metadata": {},
   "source": [
    "**R3-16**  \n",
    "\n",
    "It has been shown earlier that a polynomial is O(n^d), where d is its highest order\n",
    "\n",
    "Therefore, f(n) <= f'(n), where f'(n) = Cn^d\n",
    "\n",
    "if we take the logarithm of this function, we get log(cn^d) = log(c) + dlog(n)\n",
    "\n",
    "We can ignore the constant term, which means that log(f(n)) <= dlog(n), which means that\n",
    "log(f(n)) is O(log(n)) for a polynomial\n"
   ]
  },
  {
   "cell_type": "markdown",
   "metadata": {},
   "source": [
    "**R3-17**  \n",
    "\n",
    "If you expand out the function, you get n^5 + ax^4 + .... + 1,\n",
    "which is < (1+a+a2...+1)n^5 for all n>n0.\n",
    "\n",
    "Therefore, it is O(n^5)"
   ]
  },
  {
   "cell_type": "markdown",
   "metadata": {},
   "source": [
    "**R3-18**  \n",
    "\n",
    "From the power rules, 2^(n+1) = (2)(2^n), which means there is a constant C=2 such that\n",
    "2^(n+1) <= Cf(n) for n>n0, where f(n) = 2^n\n",
    "\n",
    "Therefor 2^(n+1) is O(2^n)"
   ]
  },
  {
   "cell_type": "markdown",
   "metadata": {},
   "source": [
    "**R3-19**  \n",
    "\n",
    "We have shown previously that if d(n) is O(f(n)) and e(n) is O(g(n)), then \n",
    "d(n)e(n) is O(f(n)g(n)).\n",
    "\n",
    "If we set d(n) = n and e(n) = 1, with f(n) = n and g(n) = log(n), then \n",
    "(n)(1) is O(nlog(n)), satisfying our requirements."
   ]
  },
  {
   "cell_type": "markdown",
   "metadata": {},
   "source": [
    "**R3-20**  \n",
    "\n",
    "We have shown that f(n) is O(g(n)) iff g(n) is T(f(n))\n",
    "\n",
    "Therefore, if nlogn is O(n^2), we have proved the above.\n",
    "\n",
    "Like in the previous exercise, log(n) is O(n) and n is O(n), so\n",
    "nlogn is O(n^2) and therefore (n^2) is T(nlogn) for n>n0"
   ]
  },
  {
   "cell_type": "markdown",
   "metadata": {},
   "source": [
    "**R3-21**  \n",
    "\n",
    "As before, 1 is O(log(n)) for n>n0 (where n0>2 since log(1)=0)\n",
    "\n",
    "Therefore (n)*(1) is O(log(n)*n) and n is O(nlogn)"
   ]
  },
  {
   "cell_type": "markdown",
   "metadata": {},
   "source": [
    "**R3-22**  \n",
    "\n",
    "f(n) <= ceil(f(n)) for all n>0, but ceil(f(n)) <= f(n) + 1.\n",
    "\n",
    "We have shown that O(f(n) + g(n)) = O(max(f(n), g(n)),\n",
    "if f(n) is f(n) and g(n) is 1, then O(f(n) + g(n)) is O(max(f(n), 1)), which will be \n",
    "\n",
    "f(n) for a specific range n>n0\n",
    "\n",
    "Therefore, cuil(f(n)) is O(f(n))"
   ]
  },
  {
   "cell_type": "markdown",
   "metadata": {},
   "source": [
    "**R3-23**  \n",
    "\n",
    "Accessing the len requires O(1)\n",
    "the loop is called n times -> O(n)\n",
    "    each loop requires O(1) times\n",
    "Overall, the loop is O(n)\n",
    "\n",
    "The return takes O(1)\n",
    "\n",
    "Therefore, O(1+n+1) is O(n)\n"
   ]
  },
  {
   "cell_type": "markdown",
   "metadata": {},
   "source": [
    "**R3-24**  \n",
    "\n",
    "Accessing the len requires O(1)\n",
    "\n",
    "the loop is called n/2 times -> still O(n)\n",
    "    each loop requires O(1) times\n",
    "Overall, the loop is O(n)\n",
    "\n",
    "The return takes O(1)\n",
    "\n",
    "Therefore, O(1+n+1) is O(n)\n"
   ]
  },
  {
   "cell_type": "markdown",
   "metadata": {},
   "source": [
    "**R3-25**  \n",
    "\n",
    "The initial steps are O(1)\n",
    "\n",
    "The outer loop is called (n) times\n",
    "    The inner loop is called between 1-n times\n",
    "        Each inner loop action is O(1)\n",
    "The overall number of calls is 2, 3, 4, 5, ....n = (n)(n+1)/2 - 1, which is O(n^2)\n",
    "\n",
    "Therefor the overall is O(1+n^2), which is O(n^2)"
   ]
  },
  {
   "cell_type": "markdown",
   "metadata": {},
   "source": [
    "**R3-26**  \n",
    "\n",
    "Initial is O(1)\n",
    "\n",
    "The loop is called n times:\n",
    "    each call uses O(1)\n",
    "Therefore total is O(n)\n",
    "\n",
    "return is O(1)\n",
    "\n",
    "Total is O(1+n+1) = O(n)"
   ]
  },
  {
   "cell_type": "markdown",
   "metadata": {},
   "source": [
    "**R3-27**  \n",
    "\n",
    "Initial is O(1)\n",
    "\n",
    "Outer Loop has n calls\n",
    "    Inner two loops have O(n^2 calls) (see R3-25)\n",
    "    \n",
    "Final is O(1)\n",
    "\n",
    "Therefore O(1+ n*n^2 + 1) = O(n^3)"
   ]
  },
  {
   "cell_type": "markdown",
   "metadata": {},
   "source": [
    "**R3-28**  \n",
    "\n",
    "see this [link](http://copland.udel.edu/~caviness/Class/CISC320-02S/exercise-solns/ch01/R-1.7.pdf)"
   ]
  },
  {
   "cell_type": "markdown",
   "metadata": {},
   "source": []
  },
  {
   "cell_type": "markdown",
   "metadata": {},
   "source": [
    "**R3-29**  \n",
    "\n",
    "They multiply, so it is O(nlogn)"
   ]
  },
  {
   "cell_type": "markdown",
   "metadata": {},
   "source": [
    "**R3-30**  \n",
    "\n",
    "You are choosing log(n) elements, which each require O(n)\n",
    "\n",
    "Overall, it is also O(nlogn)"
   ]
  },
  {
   "cell_type": "markdown",
   "metadata": {},
   "source": [
    "**R3-31**  \n",
    "\n",
    "You are doing O(n) and O(logn), which is overall O(n)\n",
    "\n",
    "If all entries are odd, your best case is O(logn)\n",
    "\n",
    "Worst case in O(n) if they are all odd"
   ]
  },
  {
   "cell_type": "markdown",
   "metadata": {},
   "source": [
    "**R3-32**  \n",
    "\n",
    "For S[1] D runs in O(1) time For S[2] D runs in O(2) time .......\n",
    "For S[n] D runs in O(n) time. But E calls D n times, Hence running time of E= 1+2+3+..................+n =n(n+1)/2 =O(n2) "
   ]
  },
  {
   "cell_type": "code",
   "execution_count": 2,
   "metadata": {},
   "outputs": [
    {
     "name": "stdout",
     "output_type": "stream",
     "text": [
      "15.05149978319906\n"
     ]
    }
   ],
   "source": [
    "#--------------R3-33------------------\n",
    "\"\"\"\n",
    "O notation means that there is a constant C such that f(n) < Cg(n)\n",
    "\n",
    "Therefore, if Al's algorithms performs better than A(nlogn) and Bob's algoriothm performs better that B(n^2), \n",
    "we can solve for the value where Anlogn = Bn^2, which we know is true when n=100.  This means that \n",
    "(A/B) = (100)/(log(100)) = 15.05 (see below)\n",
    "\n",
    "That means that Al's runtime on a single iteration is 15 times slower, but since he performs fewer operations overall, he\n",
    "starts to perform better at large values of n\n",
    "\n",
    "\"\"\"\n",
    "import math\n",
    "print(100/math.log(100, 2))"
   ]
  },
  {
   "cell_type": "markdown",
   "metadata": {},
   "source": [
    "**R3-34**  \n",
    "\n",
    "If you are visiting a new restaurant, the chance that you will enjoy the meal is 1/j, where j is the total number of \n",
    "restaurants that  you have visited so far (including that one)\n",
    "\n",
    "Therefore, the expected number of meals you will enjoy is the sum of (1/j) for j=1-number_of_restaurant\n",
    "\n",
    "From calculus, the integral of 1/x is ln(x), so for 10,000 meals, the average will be ln(10,000) - ln(1) = 9.2 restaurants\n"
   ]
  },
  {
   "cell_type": "markdown",
   "metadata": {},
   "source": [
    "## Creativity"
   ]
  },
  {
   "cell_type": "markdown",
   "metadata": {},
   "source": [
    "**C3-35**  \n",
    "\n",
    "If you sort each set, it will take O(nlogn)*3 time, which is still O(nlogn).\n",
    "\n",
    "Once you have the sequences sorted, you can move along each sequence with indices i, j and k.  \n",
    "At each iteration, either choose the biggest value from the current positions, or repeat the process with the \n",
    "remaining two indices until they are all equal or greater to that biggest value and start again.  At each step, check\n",
    "if the values are the same and return False if they are.  If you make it to the end, return true\n",
    "\n",
    "Since you are traversing each index once, this part will be done in O(n) time, so the overall is \n",
    "O(nlogn + n), which is O(nlogn) still"
   ]
  },
  {
   "cell_type": "markdown",
   "metadata": {},
   "source": [
    "**C3-36**  \n",
    "\n",
    "One possibility is to sort the array first O(nlogn) and then choose the last 10 value\n",
    "\n",
    "This would be O(nlogn)\n"
   ]
  },
  {
   "cell_type": "code",
   "execution_count": 3,
   "metadata": {},
   "outputs": [
    {
     "data": {
      "text/plain": [
       "[<matplotlib.lines.Line2D at 0x7f5149033be0>]"
      ]
     },
     "execution_count": 3,
     "metadata": {},
     "output_type": "execute_result"
    },
    {
     "data": {
      "image/png": "[encoded data removed]",
      "text/plain": [
       "<Figure size 432x288 with 1 Axes>"
      ]
     },
     "metadata": {
      "needs_background": "light"
     },
     "output_type": "display_data"
    }
   ],
   "source": [
    "#-------------C3-37------------------\n",
    "\"\"\"\n",
    "An increasing oscillating function like x^2(cos(x)+1) would always be positive but neighter bounded by O(n) or Omega(n) \n",
    "\n",
    "It would be bounded by O(n^2) though in this case for C = 2\n",
    "\n",
    "\"\"\"\n",
    "import matplotlib.pyplot as plt\n",
    "import math\n",
    "\n",
    "x = list(range(100))\n",
    "y = list(map(lambda x: x**2*(1+math.cos(x)), x))\n",
    "plt.plot(x, y)"
   ]
  },
  {
   "cell_type": "markdown",
   "metadata": {},
   "source": [
    "**C3-38**  \n",
    "\n",
    "Note: the question is not asking whether computing this sum is O(n), it is saying that the result of the expression is O(n)\n",
    "\n",
    "sum(i**2) = sum ((i-1)**2) + i**2\n",
    "\n",
    "If sum((i-1)**2) is less than i * (i**2), then sum ((i-1)**2) + i**2 < i*i**2 + i**2 < O(i^3)\n",
    "In other words, 1^2 + 2^2 + ... (n-1)^2 < n^2 + n^2 + n^2 ..... n^2\n",
    "\n",
    "For i = 2, 1 + 4 < 9 + 9\n",
    "for i = 3, 1 + 4 + 9 < 16*3\n",
    "\n",
    "Therefore, since this is true for the first few iterations, it is true by induction"
   ]
  },
  {
   "cell_type": "markdown",
   "metadata": {},
   "source": [
    "**C3-39**  \n",
    "\n",
    "[Solution](https://math.stackexchange.com/questions/2172730/show-that-sum-i-1n-fraci2i2)"
   ]
  },
  {
   "cell_type": "markdown",
   "metadata": {},
   "source": [
    "**C3-40**  \n",
    "\n",
    "from the log rules, logb(a) = log2(a)/log2(b), which means that there is a constant 1/log2(b) such that\n",
    "logb(n) = Clog(b), which satisfies the conditions of theta"
   ]
  },
  {
   "cell_type": "markdown",
   "metadata": {},
   "source": [
    "**C3-41**  \n",
    "\n",
    "If you could use 2n comparisons, it would be easy to just compare each number to both the min and max \n",
    "\n",
    "We could try short circuiting the loop by only checking max if the min comparison failed, but that would not be true in all cases\n",
    "(ex. if the array was reverse sorted).  You could hedge against that by randomizing or alternating which call was made first\n",
    "\n",
    "That would bring you to 3n/2 on average.\n",
    "\n",
    "\n",
    "The tournament method is the actual solution, but uses comparisons for array size, which might be considere"
   ]
  },
  {
   "cell_type": "markdown",
   "metadata": {},
   "source": [
    "**C3-42**  \n",
    "the minimum number C is the max number of visits plus one more visit: n(n+1)/2 + 1 "
   ]
  },
  {
   "cell_type": "code",
   "execution_count": 4,
   "metadata": {},
   "outputs": [
    {
     "data": {
      "text/plain": [
       "'\\nTriangle Method:\\n\\nWhen n is odd, we can still draw the same line y = x and then sum up the n half blocks:\\n\\nsum = n*n/2 + n*(1*1/2) = (n^2 + n)/2 = n(n+1)/2\\n\\n\\n\\n\\nBox Method:\\n\\nFor odd numbers, just ignore the middle element and add it to the end so that you now have \\n\\n(n+1)*((n-1)/2) + (1*((n+1)/2))\\nwhich simplifies to (1/2)* ((n+1)n - (n+1) + (n+1)) = n(n+1)/2 as before\\n         ___\\n        |   |\\n   (n+1)|   |_\\n        |   | |\\n        |___|_| (n+1)/2\\n     (n-1)/2  1\\n\\n'"
      ]
     },
     "execution_count": 4,
     "metadata": {},
     "output_type": "execute_result"
    }
   ],
   "source": [
    "#-------------C3-43-----------------\n",
    "\"\"\"\n",
    "Triangle Method:\n",
    "\n",
    "When n is odd, we can still draw the same line y = x and then sum up the n half blocks:\n",
    "\n",
    "sum = n*n/2 + n*(1*1/2) = (n^2 + n)/2 = n(n+1)/2\n",
    "\n",
    "\n",
    "\n",
    "\n",
    "Box Method:\n",
    "\n",
    "For odd numbers, just ignore the middle element and add it to the end so that you now have \n",
    "\n",
    "(n+1)*((n-1)/2) + (1*((n+1)/2))\n",
    "which simplifies to (1/2)* ((n+1)n - (n+1) + (n+1)) = n(n+1)/2 as before\n",
    "         ___\n",
    "        |   |\n",
    "   (n+1)|   |_\n",
    "        |   | |\n",
    "        |___|_| (n+1)/2\n",
    "     (n-1)/2  1\n",
    "\n",
    "\"\"\""
   ]
  },
  {
   "cell_type": "markdown",
   "metadata": {},
   "source": [
    "**C3-44**  \n",
    "\n",
    "An integer of up to 100 bits is 2^100 = 1.2e30\n",
    "\n",
    "a) We know from before that you only have to check up to the square root of n, which is 1.13e15\n",
    "If each check takes 1 microsecond, it will take at least 1.13e9 seconds, which is over a billion seconds!\n",
    "That is approximately 32 years \n",
    "\n",
    "b) If the number of bytes to store r is logr/8+1, if we want to express it in terms of n the answer would be \n",
    "O(e^n)"
   ]
  },
  {
   "cell_type": "markdown",
   "metadata": {},
   "source": [
    "**C3-45**  \n",
    "\n",
    "Since you can only use O(1) space, options like dictionaries are off limits since they would grow \n",
    "\n",
    "One option is to just multiply all the numbers from one set and then divide them by the other.  \n",
    "The remainder will be the missing number!! \n",
    "\n",
    "To account for the zero term, add one to all the numbers coming in, then subtract one before making your return"
   ]
  },
  {
   "cell_type": "markdown",
   "metadata": {},
   "source": [
    "**C3-46**  \n",
    "\n",
    "He hasn't proven that if n is true, then n+1 is true.  He has instead shown that if n is true, n-1 is true \n",
    "and started with n=1.  His claim is true for all 0<n<1, but not for all n>1"
   ]
  },
  {
   "cell_type": "markdown",
   "metadata": {},
   "source": [
    "**C3-47**  \n",
    "\n",
    "Base case, 1 line will meet at 0 points\n",
    "2 lines will meet at one point\n",
    "\n",
    "When you add a new line, it will meet with every other existing lines once given the constraints\n",
    "\n",
    "Therefore x(n) = (n-1) + x(n-1)\n",
    "\n",
    "which means that x(n) = (n-1) + (n-2) + (n-3) + .... + 1+ 0\n",
    "\n",
    "which is equal to sum[0 to n-1](n)\n",
    "\n",
    "\n",
    "\n",
    "This is a geometric series whose solution is (a)(a+1)/2, where a in this case is n-1\n",
    "\n",
    "This grows at the same rate as Theta(n^2)"
   ]
  },
  {
   "cell_type": "markdown",
   "metadata": {},
   "source": [
    "**C3-48**  \n",
    "\n",
    "This justification mixes up the 'n' as an actual number and 'n' as a representation of the nth number.\n",
    "\n",
    "As used in the example (as a number of calls), the justification is correct\n",
    "\n",
    "However, in terms of the actual value itself, the justification is not correct.\n",
    "\n",
    "\n",
    "Alternate answer:\n",
    "\n",
    "For big O to be true, there must be a constant C such that d(n) <= Cf(n)\n",
    "\n",
    "For this justification, C was chosen as 1\n",
    "\n",
    "Therefore, the proof should have been \n",
    "F(1) = 1 <= 1n\n",
    "F(2) = 2 <= 1n\n",
    "\n",
    "for the induction step, \n",
    "F(n) = F(n-1) + F(n-2) = 1(n-1) + (n-2) = 2n-3, which is not <= 1n as before "
   ]
  },
  {
   "cell_type": "markdown",
   "metadata": {},
   "source": [
    "**C3-49**  \n",
    "\n",
    "The fibonacci sequence is : 1, 2, 3, 5, 8, 13, 21, 34, etc..\n",
    "The first few steps of the sequence are actually smaller than (3/2)**n, so we can't use them!\n",
    "THe first instance when this is true is for n = 5\n",
    "\n",
    "First step: F(5) = 8 >= (3/2)**5 = 7.59375\n",
    "Second Step: F(6) = 13 >= (3/2)**6 = 11.39\n",
    "\n",
    "Induction Step: F(n) = F(n-1) + F(n-2) > (3/2)^(n-1) + (3/2)^(n-2) >? (3/2)^n\n",
    "\n",
    "((3/2)+1)*(3/2)**(n-2) = (5/2)(3/2)**(n-2) = (1.1111)(3/2)**n\n",
    "\n",
    "Since (1.1111)x > x, we have proved that F(n) >= (3/2)^n for all values greater than 5, which\n",
    "satisfies the constraints of Omega"
   ]
  },
  {
   "cell_type": "code",
   "execution_count": 6,
   "metadata": {},
   "outputs": [
    {
     "data": {
      "text/plain": [
       "17"
      ]
     },
     "execution_count": 6,
     "metadata": {},
     "output_type": "execute_result"
    }
   ],
   "source": [
    "#--------------C3-50---------------------\n",
    "\"\"\"\n",
    "a)\n",
    "Loop from 0 to n as i\n",
    "    Loop from 0 to i, calculating the value of xi as ai*=x\n",
    "    \n",
    "This would take n*(n+1)/2 or O(n**2)\n",
    "\n",
    "In other words, every time we increase n, we have to do one extra addition and n multiplications, \n",
    "which means we have an arithmetically increasing sum that \n",
    "\n",
    "\n",
    "b) No idea how you can get it in O(nlogn)\n",
    "\n",
    "\n",
    "c) Using horner's method, we only need O(n) multiplications and O(n) additions\n",
    "\n",
    "\"\"\"\n",
    "\n",
    "def polynomial(x, coefficients):\n",
    "    x_tot = 1\n",
    "    total = 0\n",
    "    for a in coefficients:\n",
    "        total += a*x_tot\n",
    "        x_tot *= x\n",
    "    return total\n",
    "\n",
    "\n",
    "polynomial(2, [1, 2, 3])\n",
    "\n"
   ]
  },
  {
   "cell_type": "markdown",
   "metadata": {},
   "source": [
    "**C3-51**  \n",
    "\n",
    "$\\sum_{i=1}^{n}log(i)= log(1*2*3*...(n-1)*n) = log(n^n + ...) = O(nlog(n))$"
   ]
  },
  {
   "cell_type": "markdown",
   "metadata": {},
   "source": [
    "**C3-52**  \n",
    "\n",
    "For this to be true, sum(log(i)) must be >= C*nlogn\n",
    "\n",
    "In the second half of the series, each value is at least log(n/2) and the total value is greater than the sum from n/2 to n\n",
    "\n",
    "Therefore, sum(log(i)) >= sum[n/2 to n](log(n/2)) >= (n/2)log(n/2) which is O(nlogn)\n",
    "\n",
    "Therefore sum(log(i)) is Theta(nlogn) as well"
   ]
  },
  {
   "cell_type": "markdown",
   "metadata": {},
   "source": [
    "**C3-53**  \n",
    "\n",
    "Label each bottle from 0 to n − 1, and consider each as a binary number consisting\n",
    "of ⌈log n⌉ bits. Now assemble ⌈log n⌉ royal goblets. Take a drop from each of the bottles whose\n",
    "lowest order bit is set and deposit in the first goblet. Then take a drop from each bottle whose 2nd\n",
    "bit is set and deposit in the second goblet. Continue in similar fashion through the highest-order\n",
    "bit. Now hand each of the royal tasters one of the goblets and command them to drink. Note that\n",
    "there is now a 1:1 correspondence between bits and tasters. In a month, some of your tasters will\n",
    "drop dead. Set the corresponding bits to 1, and all other bits to 0. The resulting binary number\n",
    "identifies the poisoned bottle. \n",
    "Long live the king, may his Evil prevail!!!"
   ]
  },
  {
   "cell_type": "code",
   "execution_count": 7,
   "metadata": {},
   "outputs": [
    {
     "name": "stdout",
     "output_type": "stream",
     "text": [
      "[3268, 13, 3836, 1065, 1860, 2733, 118, 3301, 2090, 861, 1005, 476, 1691, 1629, 3096, 1691, 2805, 3742, 3178, 226, 3306, 1127, 521, 1584, 1164, 2219, 142, 696, 3607, 2625, 3014, 739, 740, 988, 3958, 3210, 1755, 570, 531, 640, 550, 3764, 3258, 2531, 971, 2553, 2307, 1248, 1512, 3975, 3649, 1442, 2772, 3005, 2790, 2529, 1609, 2109, 3674, 493, 2498, 3280, 1593, 3675, 3274, 1300, 2606, 2439, 3111, 1350, 2692, 191, 3197, 252, 329, 1905, 387, 730, 951, 2977, 2492, 3171, 2603, 3354, 3181, 2976, 3161, 1498, 3208, 299, 2052, 3258, 3302, 1958, 2244, 1479, 573, 3076, 285, 2894, 3246, 2386, 737, 3496, 3085, 1413, 2224, 3734, 3054, 211, 3804, 299, 345, 1993, 3291, 720, 3110, 1471, 3856, 786, 404, 2523, 1270, 3409, 3021, 2657, 1390, 2852, 688, 2957, 103, 2253, 3425, 1755, 797, 2592, 3797, 1329, 1451, 2228, 1722, 1021, 3569, 1100, 716, 2464, 357, 1772, 107, 3138, 952, 3832, 1936, 1315, 3030, 2160, 2162, 3142, 2697, 1997, 1601, 410, 1737, 2629, 1177, 3859, 372, 989, 2482, 2841, 1961, 1183, 1723, 1251, 3365, 69, 3860, 3166, 2987, 2954, 2436, 3408, 3608, 1402, 2464, 2322, 1646, 2623, 1350, 2077, 832, 932, 2465, 2472, 724, 1902, 2976, 1171, 2303, 1104, 1812, 3934, 3589, 284, 889, 2070, 1719, 138, 1174, 2485, 171, 2712, 324, 3206, 55, 1930, 2423, 1419, 661, 3032, 2531, 2299, 2209, 3751, 1604, 1394, 2515, 2701, 3657, 2442, 3448, 3438, 3591, 2448, 284, 400, 3452, 3291, 1415, 2356, 1934, 3318, 3443, 131, 2056, 1152, 167, 3118, 3847, 3280, 2333, 85, 555, 3853, 136, 1111, 696, 1533, 3888, 651, 2017, 2825, 3604, 3311, 2931, 3547, 3101, 732, 1814, 1909, 706, 3841, 2517, 2376, 2634, 2585, 3162, 2648, 3505, 50, 132, 1887, 2937, 2252, 527, 2563, 3269, 2360, 1675, 2731, 3362, 1203, 1646, 2361, 1718, 3158, 150, 1276, 3542, 908, 2460, 3939, 530, 2590, 1654, 2973, 1520, 3517, 3470, 547, 1297, 3914, 537, 2777, 1735, 3831, 1686, 1846, 1363, 3166, 15, 2403, 178, 383, 2185, 3179, 1680, 118, 958, 3102, 3337, 1321, 858, 74, 1737, 2205, 474, 3984, 3184, 2826, 1480, 185, 3833, 3876, 546, 1098, 2431, 1956, 2233, 2932, 1999, 1629, 2419, 3805, 1581, 3825, 498, 1852, 721, 1435, 2944, 1334, 2801, 1889, 3023, 3781, 3099, 3419, 1484, 3344, 3405, 3421, 2426, 2944, 1567, 2211, 3818, 2694, 1976, 1305, 181, 2153, 2601, 3794, 2987, 851, 1746, 1250, 1245, 1891, 1723, 2828, 718, 276, 2390, 525, 2578, 876, 964, 2002, 272, 3109, 2397, 3272, 3189, 1584, 1072, 3214, 3842, 3788, 3172, 2608, 3264, 3665, 1498, 1055, 462, 3751, 334, 2040, 1707, 867, 920, 3989, 508, 1010, 2948, 1862, 474, 2975, 945, 3246, 1471, 2971, 2903, 2865, 2222, 2529, 3307, 1886, 378, 2536, 3991, 1022, 2395, 1476, 3340, 3642, 2548, 2173, 3693, 1190, 2380, 726, 3316, 1500, 3360, 3881, 159, 3167, 3572, 3666, 3265, 2381, 1751, 174, 433, 3882, 2849, 3259, 626, 2393, 962, 123, 483, 1349, 2642, 2913, 3044, 270, 683, 2843, 3879, 951, 1474, 2831, 1827, 1581, 3774, 913, 2153, 1944, 371, 3752, 1049, 808, 1320, 2193, 2141, 3770, 2503, 3501, 2044, 1137, 703, 929, 2156, 1892, 1973, 3734, 3566, 662, 2495, 1914, 1403, 1838, 3995, 1448, 509, 656, 2241, 2024, 443, 3581, 3039, 498, 134, 70, 3749, 705, 3159, 2392, 2426, 1151, 2587, 2866, 2447, 3929, 3447, 3467, 1224, 739, 402, 2111, 321, 229, 1244, 656, 2742, 3318, 1125, 1225, 2002, 306, 2491, 2015, 764, 1261, 1608, 1150, 2919, 1069, 1474, 1975, 1524, 3605, 721, 2736, 945, 225, 3029, 2523, 2623, 3234, 3938, 934, 932, 1472, 632, 1110, 3288, 156, 1669, 491, 1912, 1869, 3919, 1013, 642, 122, 3996, 2827, 998, 3679, 1419, 3064, 790, 1691, 3805, 1832, 1227, 1480, 3516, 741, 72, 967, 2519, 3705, 1288, 2579, 1662, 1356, 1672, 1141, 2551, 3746, 3229, 3893, 2743, 1330, 537, 2684, 399, 3853, 1346, 850, 1399, 993, 3721, 3165, 1408, 572, 1797, 3493, 3474, 874, 2055, 480, 3969, 1998, 3627, 2563, 3269, 3329, 3937, 3695, 2242, 1606, 2133, 2873, 3798, 3576, 2923, 3452, 1332, 743, 3355, 1780, 3529, 3603, 2054, 620, 3684, 1293, 1790, 702, 3672, 2854, 482, 3013, 1068, 1508, 3190, 3207, 2219, 3898, 2696, 417, 3755, 1133, 2854, 1687, 2691, 863, 2131, 3229, 1331, 1281, 1021, 1945, 1219, 2090, 3178, 3030, 481, 1515, 3471, 576, 3898, 2228, 1082, 3825, 1953, 3647, 253, 2016, 3479, 3448, 2818, 1508, 1567, 2182, 3971, 3339, 903, 2758, 3882, 791, 888, 415, 2245, 2583, 2508, 1556, 2242, 690, 350, 3288, 1112, 1622, 1163, 3801, 2307, 2026, 3317, 3496, 2411, 1639, 114, 1358, 3164, 3534, 3038, 2418, 1829, 3972, 25, 3796, 3247, 2937, 126, 1260, 370, 2854, 3969, 1164, 933, 3261, 727, 2673, 2205, 2301, 942, 1882, 1149, 335, 1762, 1654, 318, 3669, 1202, 2244, 3992, 1485, 3101, 2818, 3261, 143, 2839, 1187, 641, 1442, 1352, 371, 1583, 2563, 2039, 3070, 2836, 1013, 486, 3614, 3295, 3999, 2734, 3, 3954, 3405, 1268, 1223, 3849, 1191, 1271, 900, 2367, 423, 796, 2938, 1233, 1467, 3382, 3358, 194, 189, 1447, 1747, 2629, 132, 2097, 123, 1844, 2158, 2650, 2364, 1825, 2863, 2285, 82, 1346, 2296, 2438, 3713, 2491, 2515, 2443, 981, 2835, 54, 817, 986, 419, 260, 1302, 593, 1575, 522, 2047, 3906, 1210, 958, 3407, 3022, 93, 580, 1764, 1905, 3427, 773, 3885, 2383, 2018, 3760, 1561, 2558, 1532, 1575, 3279, 2383, 33, 169, 1538, 576, 2782, 2640, 3456, 438, 3216, 2917, 3983, 817, 3634, 1355, 3791, 245, 94, 1066, 2839, 847, 1923, 3410, 3012, 1068, 1383, 2172, 974, 1537, 1058, 3445, 1754, 2337, 1639, 3397, 2572, 3843, 3639, 2704, 2327, 3596, 3257, 78, 2374, 2821, 1215, 1198, 1729, 3827, 1421, 32, 2673, 3717, 694, 913, 2568, 31, 3832, 3326, 536, 860, 2023, 540, 889, 3864, 2801, 3850, 1214, 1482, 2406, 2918, 2497, 1925, 1909, 900, 2078, 3818, 3467, 395, 2451, 2250, 3084, 1297, 2843, 2712, 973, 2033, 1123, 3832, 3457, 49, 1617, 2468, 280, 1418, 2698, 2788, 3932, 2349, 3306, 45, 392, 3101, 1999, 2151, 394, 1809, 2842, 3298, 3712, 434, 1112, 1180, 470, 1331, 3497, 2035, 1204, 1308, 3500, 2527, 2391, 1573, 1162, 3742, 2020, 3823, 2694, 1298, 161, 3645, 2879, 3363]\n",
      "3101 3\n"
     ]
    },
    {
     "data": {
      "text/plain": [
       "3101"
      ]
     },
     "execution_count": 7,
     "metadata": {},
     "output_type": "execute_result"
    }
   ],
   "source": [
    "#---------------C3-54------------------------------\n",
    "\"\"\"\n",
    "The algorithm below works in O(n) time, but uses O(n) space as well\n",
    "\n",
    "\"\"\"\n",
    "\n",
    "import random\n",
    "\n",
    "def find_most_frequent(n):\n",
    "    S = []\n",
    "    for _ in range(n):\n",
    "        S.append(random.randint(0, 4*n-1))\n",
    "        \n",
    "    print (S)\n",
    "    \n",
    "    \n",
    "    counts = [0]*(4*n)\n",
    "    max_int = 0\n",
    "    for num in S:\n",
    "        counts[num] += 1\n",
    "        if counts[num] >= counts[max_int]:\n",
    "            max_int = num\n",
    "    \n",
    "    print(max_int, counts[max_int])\n",
    "    if counts[max_int] == 1: return False\n",
    "    else: return max_int\n",
    "\n",
    "\n",
    "find_most_frequent(1000)"
   ]
  },
  {
   "cell_type": "markdown",
   "metadata": {},
   "source": [
    "## Projects"
   ]
  },
  {
   "cell_type": "code",
   "execution_count": 8,
   "metadata": {},
   "outputs": [
    {
     "name": "stdout",
     "output_type": "stream",
     "text": [
      "Total time is  0.00017070770263671875\n",
      "Total time is  0.006703615188598633\n",
      "Total time is  0.6363182067871094\n",
      "Total time is  65.57145118713379\n",
      "Total time is  5.817413330078125e-05\n",
      "Total time is  0.0016477108001708984\n",
      "Total time is  0.07507133483886719\n",
      "Total time is  8.03700876235962\n",
      "Total time is  2.9087066650390625e-05\n",
      "Total time is  0.00019550323486328125\n",
      "Total time is  0.002549886703491211\n",
      "Total time is  0.02925395965576172\n"
     ]
    },
    {
     "data": {
      "image/png": "[encoded data removed]",
      "text/plain": [
       "<Figure size 432x288 with 1 Axes>"
      ]
     },
     "metadata": {
      "needs_background": "light"
     },
     "output_type": "display_data"
    }
   ],
   "source": [
    "#--------------P3-55----------\n",
    "\n",
    "import time\n",
    "import matplotlib.pyplot as plt \n",
    "\n",
    "class Prefix():\n",
    "    def __init__(self):\n",
    "        self._timer_array = []\n",
    "\n",
    "\n",
    "    def timer(func):\n",
    "        def wrapper(*args, **kwargs):\n",
    "            before = time.time()\n",
    "            for _ in range(20):\n",
    "                func(*args, **kwargs)\n",
    "            after = time.time()\n",
    "            args[0]._timer_array.append((after-before)*100000)  #Note, since the first argument is self, so this is how we access it\n",
    "            print ('Total time is ', after-before)\n",
    "        return wrapper\n",
    "            \n",
    "        \n",
    "    @timer\n",
    "    def prefix_average1(self, S):\n",
    "        n = len(S)\n",
    "        A = [0]*n\n",
    "        for j in range(n):\n",
    "            total = 0\n",
    "            for i in range(j+1):\n",
    "                total += S[i]\n",
    "            A[j] = total/(j+1)\n",
    "        return A\n",
    "\n",
    "    @timer\n",
    "    def prefix_average2(self, S):\n",
    "        n = len(S)\n",
    "        A = [0]*n\n",
    "        for j in range(n):\n",
    "            A[j] = sum(S[0:j+1])/(j+1)\n",
    "        return A\n",
    "    \n",
    "    @timer\n",
    "    def prefix_average3(self, S):\n",
    "        n = len(S)\n",
    "        A = [0]*n\n",
    "        total = 0\n",
    "        for j in range(n):\n",
    "            total +=S[j]\n",
    "            A[j] = total/(j+1)\n",
    "        return A\n",
    "    \n",
    "    def _reset_timers(self):\n",
    "        self._timer_array = []\n",
    "        \n",
    "        \n",
    "    def test_timers(self, e_n = 5):\n",
    "        results = {}\n",
    "        for name, func in [('1',self.prefix_average1), ('2', self.prefix_average2), ('3', self.prefix_average3)]:\n",
    "            for i in range(1, e_n):\n",
    "                test_array = list(range(10**i))\n",
    "                func(test_array)\n",
    "            results[name] = self._timer_array\n",
    "            self._reset_timers()\n",
    "            \n",
    "        x = list(map(lambda x: 10**x, range(1, e_n)))\n",
    "        return x, results\n",
    "    \n",
    "    \n",
    "p = Prefix()\n",
    "x, results = p.test_timers(5)\n",
    "\n",
    "for f in results.values():\n",
    "    plt.plot(x, f)\n",
    "plt.xscale('log')\n",
    "plt.yscale('log')"
   ]
  },
  {
   "cell_type": "code",
   "execution_count": 10,
   "metadata": {},
   "outputs": [
    {
     "name": "stdout",
     "output_type": "stream",
     "text": [
      "Total time is  6.0558319091796875e-05\n",
      "Total time is  0.00041675567626953125\n",
      "Total time is  0.003291606903076172\n",
      "Total time is  1.4543533325195312e-05\n",
      "Total time is  6.461143493652344e-05\n",
      "Total time is  0.0007045269012451172\n",
      "Total time is  0.00010657310485839844\n",
      "Total time is  0.0072209835052490234\n",
      "Total time is  0.6158537864685059\n",
      "Total time is  4.982948303222656e-05\n",
      "Total time is  0.00032639503479003906\n",
      "Total time is  0.002044677734375\n",
      "Total time is  0.0008604526519775391\n",
      "Total time is  0.5774965286254883\n",
      "Total time is  613.3277246952057\n"
     ]
    },
    {
     "data": {
      "image/png": "[encoded data removed]",
      "text/plain": [
       "<Figure size 432x288 with 1 Axes>"
      ]
     },
     "metadata": {
      "needs_background": "light"
     },
     "output_type": "display_data"
    }
   ],
   "source": [
    "#------------------P3-56--------------------\n",
    "#Note, run the previous cell before this one, because the class SumTimer is inherited from Prefix\n",
    "\n",
    "class SumTimer(Prefix):\n",
    "    def __init__(self):\n",
    "        super().__init__()\n",
    "        \n",
    "    def timer(func):\n",
    "        def wrapper(*args, **kwargs):\n",
    "            before = time.time()\n",
    "            for _ in range(20):\n",
    "                func(*args, **kwargs)\n",
    "            after = time.time()\n",
    "            args[0]._timer_array.append((after-before)*100000)  #Note, this is how we access self\n",
    "            print ('Total time is ', after-before)\n",
    "        return wrapper\n",
    "    \n",
    "    \n",
    "    @timer\n",
    "    def example1(self,S):\n",
    "        n = len(S)\n",
    "        total = 0\n",
    "        for j in range(n):\n",
    "            total+= S[j]\n",
    "        return total\n",
    "    \n",
    "    @timer\n",
    "    def example2(self, S):\n",
    "        n = len(S)\n",
    "        total = 0\n",
    "        for j in range(0, n, 2):\n",
    "            total += S[j]\n",
    "        return total\n",
    "    \n",
    "    @timer\n",
    "    def example3(self, S):\n",
    "        n = len(S)\n",
    "        total = 0\n",
    "        for j in range(n):\n",
    "            for k in range(1+j):\n",
    "                total += S[k]\n",
    "        return total\n",
    "    \n",
    "    @timer\n",
    "    def example4(self, S):\n",
    "        n = len(S)\n",
    "        prefix = 0\n",
    "        total = 0\n",
    "        for j in range(n):\n",
    "            prefix += S[j]\n",
    "            total += prefix\n",
    "        return total\n",
    "    \n",
    "    @timer\n",
    "    def example5(self, A,B):\n",
    "        n = len(A)\n",
    "        count = 0\n",
    "        for i in range(n):\n",
    "            total = 0\n",
    "            for j in range(n):\n",
    "                for k in range(1+j):\n",
    "                    total += A[k]\n",
    "            if B[i] == total:\n",
    "                count  += 1\n",
    "        return count\n",
    "    \n",
    "    \n",
    "    \n",
    "    def test_timers(self, e_n = 5):\n",
    "        results = {}\n",
    "        for name, func in [('1',self.example1), ('2', self.example2), ('3', self.example3), ('4', self.example4), ('5', self.example5)]:\n",
    "            for i in range(1, e_n):\n",
    "                test_array = list(range(10**i))\n",
    "                if name == '5': func(test_array, test_array)\n",
    "                else: func(test_array)\n",
    "            results[name] = self._timer_array\n",
    "            self._reset_timers()\n",
    "            \n",
    "        x = list(map(lambda x: 10**x, range(1, e_n)))\n",
    "        return x, results\n",
    "        \n",
    "        \n",
    "s = SumTimer()\n",
    "x, results = s.test_timers(4)  #Note, even at 4 it takes 454 seconds for the last step of example5.  Increase at your own risk!\n",
    "\n",
    "for f in results.values():\n",
    "    plt.plot(x, f)\n",
    "plt.xscale('log')\n",
    "plt.yscale('log')"
   ]
  },
  {
   "cell_type": "code",
   "execution_count": 19,
   "metadata": {},
   "outputs": [
    {
     "data": {
      "image/png": "[encoded data removed]",
      "text/plain": [
       "<Figure size 432x288 with 1 Axes>"
      ]
     },
     "metadata": {
      "needs_background": "light"
     },
     "output_type": "display_data"
    }
   ],
   "source": [
    "#-----------P3-57----------------------\n",
    "\"\"\"\n",
    "Note, if the method really runs in nlogn time, the output 2^(time/n) should be linear\n",
    "\n",
    "Also note, n_e_max = 5 is already hard on my system so be careful.  It will take about 33 times as long as the\n",
    "previous for every n you add\n",
    "\"\"\"\n",
    "\n",
    "import random\n",
    "import time\n",
    "import math\n",
    "import matplotlib.pyplot as plt\n",
    "\n",
    "\n",
    "def test_sorted(n_e_max = 4):\n",
    "    xs = [list(range(2**x)) for x in range(1, n_e_max)]\n",
    "    output_times = []\n",
    "    times = []\n",
    "    for x in xs:      \n",
    "        random.shuffle(x)\n",
    "        before = time.time()\n",
    "        sorted(x)\n",
    "        after = time.time()\n",
    "        times.append(after-before)\n",
    "    return (times)\n",
    "    \n",
    "    \n",
    "    \n",
    "n_e_max = 15\n",
    "times = test_sorted(n_e_max)\n",
    "x = list(range(1, n_e_max))\n",
    "y = [n * math.log(n,2) for n in x]\n",
    "plt.plot(x, times)\n",
    "plt.plot(x, y)\n",
    "plt.show()\n",
    "# we can clearely see that sort() (in blue) is O(nlogn) (orange)"
   ]
  },
  {
   "cell_type": "code",
   "execution_count": 21,
   "metadata": {},
   "outputs": [
    {
     "name": "stdout",
     "output_type": "stream",
     "text": [
      "The total number of tests for Unique1 is 33770000 for n = 5\n",
      "The total number of tests for Unique2 is 90540000 for n = 5\n",
      "The total number of tests for Unique3 is 12430000 for n = 5\n"
     ]
    }
   ],
   "source": [
    "#---------P3-58---------------------\n",
    "import time\n",
    "\n",
    "class Unique():\n",
    "    NUM_TESTS_PER_TIMECHECK = 10000\n",
    "    def __init__(self):\n",
    "        pass\n",
    "    \n",
    "    def tests_per_minute(func):\n",
    "        def wrapper(*args, **kwargs):\n",
    "            total_time = 60  #For one minute\n",
    "            counter = 0\n",
    "            while total_time >= 0:\n",
    "                before = time.time()\n",
    "                for _ in range(args[0].NUM_TESTS_PER_TIMECHECK):\n",
    "                    out = func(*args, **kwargs)\n",
    "                after = time.time()\n",
    "                total_time -= after-before\n",
    "                counter += 1\n",
    "                #print (total_time)\n",
    "                \n",
    "            num_tests = counter * args[0].NUM_TESTS_PER_TIMECHECK\n",
    "            return  num_tests\n",
    "        return wrapper\n",
    "\n",
    "\n",
    "    @tests_per_minute\n",
    "    def unique1(self, S):\n",
    "        for j in range(len(S)):\n",
    "            for k in range(j+1, len(S)):\n",
    "                if S[j] == S[k]:\n",
    "                    return False\n",
    "        return True\n",
    "\n",
    "    @tests_per_minute\n",
    "    def unique2(self, S):\n",
    "        temp = sorted(S)\n",
    "        for j in range(1, len(temp)):\n",
    "            if S[j-1] == S[j]:\n",
    "                return False\n",
    "        return True\n",
    "\n",
    "    \n",
    "    #Note, we need this to prevent the decorator from calling itself infinitely\n",
    "    def uniquer(self, S, start = 0, stop = None):\n",
    "        if stop is None: stop = len(S)\n",
    "        if stop-start <= 1: return True\n",
    "        elif not self.uniquer(S, start, stop-1): return False\n",
    "        elif not self.uniquer(S, start+1, stop): return False\n",
    "        else: return S[start] != S[stop-1]\n",
    "    \n",
    "    \n",
    "    @tests_per_minute\n",
    "    def unique3(self, S, start = 0, stop = None):\n",
    "        if stop is None: stop = len(S)\n",
    "        if stop-start <= 1: return True\n",
    "        elif not self.uniquer(S, start, stop-1): return False\n",
    "        elif not self.uniquer(S, start+1, stop): return False\n",
    "        else: return S[start] != S[stop-1]\n",
    "        \n",
    "    def test_each_algo(self, n):\n",
    "        S = list(range(n))\n",
    "        num_tests = {}\n",
    "        for name, func in [('Unique1', self.unique1), ('Unique2', self.unique2), ('Unique3', self.unique3)]:\n",
    "            num = func(S)\n",
    "            num_tests[name] = num\n",
    "        return num_tests\n",
    "    \n",
    "    \n",
    "n = 5\n",
    "u = Unique()\n",
    "#u.unique3([1,2,3,4,5,6])\n",
    "results = u.test_each_algo(n)\n",
    "for key, value in results.items():\n",
    "    print (f\"The total number of tests for {key} is {value} for n = {n}\")"
   ]
  }
 ],
 "metadata": {
  "kernelspec": {
   "display_name": "Python 3",
   "language": "python",
   "name": "python3"
  },
  "language_info": {
   "codemirror_mode": {
    "name": "ipython",
    "version": 3
   },
   "file_extension": ".py",
   "mimetype": "text/x-python",
   "name": "python",
   "nbconvert_exporter": "python",
   "pygments_lexer": "ipython3",
   "version": "3.8.5"
  }
 },
 "nbformat": 4,
 "nbformat_minor": 4
}
